{
  "cells": [
    {
      "cell_type": "markdown",
      "source": [
        "# Automated ML\n",
        "\n",
        "Import Dependencies. In the cell below, import all the dependencies that you will need to complete the project."
      ],
      "metadata": {}
    },
    {
      "cell_type": "code",
      "source": [
        "from azureml.core.workspace import Workspace\r\n",
        "from azureml.core import Run, Dataset\r\n",
        "from azureml.core import Experiment, Webservice, Model\r\n",
        "\r\n",
        "from azureml.core import Environment\r\n",
        "from azureml.core.model import InferenceConfig\r\n",
        "from azureml.core.webservice import LocalWebservice, AciWebservice\r\n",
        "\r\n",
        "from azureml.core.compute import AmlCompute\r\n",
        "from azureml.core.compute import ComputeTarget\r\n",
        "from azureml.core.compute_target import ComputeTargetException\r\n",
        "\r\n",
        "from azureml.train.automl import AutoMLConfig\r\n",
        "from azureml.widgets import RunDetails\r\n",
        "\r\n",
        "from pprint import pprint\r\n",
        "\r\n",
        "import os\r\n",
        "import requests\r\n",
        "import json"
      ],
      "outputs": [],
      "execution_count": 6,
      "metadata": {
        "gather": {
          "logged": 1632761555043
        },
        "jupyter": {
          "outputs_hidden": false,
          "source_hidden": false
        },
        "nteract": {
          "transient": {
            "deleting": false
          }
        }
      }
    },
    {
      "cell_type": "code",
      "source": [
        "ws = Workspace.from_config()"
      ],
      "outputs": [],
      "execution_count": 7,
      "metadata": {
        "jupyter": {
          "source_hidden": false,
          "outputs_hidden": false
        },
        "nteract": {
          "transient": {
            "deleting": false
          }
        },
        "gather": {
          "logged": 1632761650621
        }
      }
    },
    {
      "cell_type": "markdown",
      "source": [
        "## Dataset\n",
        "\n",
        "### Overview\n",
        "\n",
        "\n",
        "I use historical price data of ETHBTC (Ethereum/Bitcoin) crypto pair in daily period for over 3 years. The data is downloaded from Binance.us, and it is uploaded to my Azure ML workspace to register as a Dataset.\n",
        "\n",
        "It is a time series dataset that includes a time column, OHLC columns, and volume column.\n",
        "\n",
        "* time: the daily time period\n",
        "* open: the opening price of a period\n",
        "* high: the highest price in a period\n",
        "* low: the lowest price in a period\n",
        "* close: the closing price of a period \n",
        "* volume: the buy/sell amounts of the market in a period\n",
        "\n",
        "My goal is to forecast the future price of ETHBTC. Since this is a time series data, the `time` column is a required feature. For the purpose of this project, I will only target the `close` price to forecast. In other words, this is a univariate analysis where the other value features are not considered in the model.\n",
        "\n",
        "The data is uploaded as a Dataset in Azure ML Studio, and it can be accessed by name using Python SDK. A copy of the time series data is stored as a CSV file in this project repository."
      ],
      "metadata": {}
    },
    {
      "cell_type": "code",
      "source": [
        "dataset_name = 'ETHBTC'\r\n",
        "\r\n",
        "dataset = Dataset.get_by_name(workspace=ws, name=dataset_name)\r\n",
        "\r\n",
        "# preview data frame\r\n",
        "df = dataset.to_pandas_dataframe()\r\n",
        "\r\n",
        "df"
      ],
      "outputs": [],
      "execution_count": null,
      "metadata": {
        "jupyter": {
          "source_hidden": false,
          "outputs_hidden": false
        },
        "nteract": {
          "transient": {
            "deleting": false
          }
        },
        "gather": {
          "logged": 1632726129709
        }
      }
    },
    {
      "cell_type": "code",
      "source": [
        "# confirm that time column is of datetime type\r\n",
        "df.dtypes"
      ],
      "outputs": [
        {
          "output_type": "execute_result",
          "execution_count": 9,
          "data": {
            "text/plain": "time      datetime64[ns]\nopen             float64\nhigh             float64\nlow              float64\nclose            float64\nvolume           float64\ndtype: object"
          },
          "metadata": {}
        }
      ],
      "execution_count": 9,
      "metadata": {
        "jupyter": {
          "source_hidden": false,
          "outputs_hidden": false
        },
        "nteract": {
          "transient": {
            "deleting": false
          }
        },
        "gather": {
          "logged": 1632384658193
        }
      }
    },
    {
      "cell_type": "code",
      "source": [
        "target_column =  'close'\r\n",
        "\r\n",
        "def get_data(df):\r\n",
        "    # only do univariate forecasting on closing price\r\n",
        "    close_df = df[['time', target_column]]\r\n",
        "    # close_df.index = pd.DatetimeIndex(close_df['time'])\r\n",
        "\r\n",
        "    train_data = close_df.iloc[:-50]\r\n",
        "    test_data = close_df.iloc[-50:]\r\n",
        "    \r\n",
        "    return (train_data, test_data)\r\n",
        "\r\n",
        "train_data, test_data = get_data(df)\r\n",
        "# train_data = df.iloc[:-50]\r\n",
        "# test_data = df.iloc[-50:]\r\n",
        "print(train_data)\r\n",
        "print(test_data)\r\n",
        "\r\n",
        "\r\n",
        "# test_labels = test_data.pop(label).values\r\n",
        "# print(test_labels)"
      ],
      "outputs": [
        {
          "output_type": "stream",
          "name": "stdout",
          "text": "           time  close\n0    2017-07-14   0.09\n1    2017-07-15   0.09\n2    2017-07-16   0.08\n3    2017-07-17   0.09\n4    2017-07-18   0.11\n...         ...    ...\n1463 2021-07-16   0.06\n1464 2021-07-17   0.06\n1465 2021-07-18   0.06\n1466 2021-07-19   0.06\n1467 2021-07-20   0.06\n\n[1468 rows x 2 columns]\n           time  close\n1468 2021-07-21   0.06\n1469 2021-07-22   0.06\n1470 2021-07-23   0.06\n1471 2021-07-24   0.06\n1472 2021-07-25   0.06\n1473 2021-07-26   0.06\n1474 2021-07-27   0.06\n1475 2021-07-28   0.06\n1476 2021-07-29   0.06\n1477 2021-07-30   0.06\n1478 2021-07-31   0.06\n1479 2021-08-01   0.06\n1480 2021-08-02   0.07\n1481 2021-08-03   0.07\n1482 2021-08-04   0.07\n1483 2021-08-05   0.07\n1484 2021-08-06   0.07\n1485 2021-08-07   0.07\n1486 2021-08-08   0.07\n1487 2021-08-09   0.07\n1488 2021-08-10   0.07\n1489 2021-08-11   0.07\n1490 2021-08-12   0.07\n1491 2021-08-13   0.07\n1492 2021-08-14   0.07\n1493 2021-08-15   0.07\n1494 2021-08-16   0.07\n1495 2021-08-17   0.07\n1496 2021-08-18   0.07\n1497 2021-08-19   0.07\n1498 2021-08-20   0.07\n1499 2021-08-21   0.07\n1500 2021-08-22   0.07\n1501 2021-08-23   0.07\n1502 2021-08-24   0.07\n1503 2021-08-25   0.07\n1504 2021-08-26   0.07\n1505 2021-08-27   0.07\n1506 2021-08-28   0.07\n1507 2021-08-29   0.07\n1508 2021-08-30   0.07\n1509 2021-08-31   0.07\n1510 2021-09-01   0.08\n1511 2021-09-02   0.08\n1512 2021-09-03   0.08\n1513 2021-09-04   0.08\n1514 2021-09-05   0.08\n1515 2021-09-06   0.07\n1516 2021-09-07   0.07\n1517 2021-09-08   0.07\n"
        }
      ],
      "execution_count": 46,
      "metadata": {
        "jupyter": {
          "source_hidden": false,
          "outputs_hidden": false
        },
        "nteract": {
          "transient": {
            "deleting": false
          }
        },
        "gather": {
          "logged": 1632453765322
        }
      }
    },
    {
      "cell_type": "code",
      "source": [
        "# choose a name for experiment\n",
        "experiment_name = 'forecast-ethbtc-automl'\n",
        "\n",
        "\n",
        "experiment=Experiment(ws, experiment_name)\n",
        "experiment"
      ],
      "outputs": [
        {
          "output_type": "execute_result",
          "execution_count": 6,
          "data": {
            "text/plain": "Experiment(Name: forecast-ethbtc-automl,\nWorkspace: capstone)",
            "text/html": "<table style=\"width:100%\"><tr><th>Name</th><th>Workspace</th><th>Report Page</th><th>Docs Page</th></tr><tr><td>forecast-ethbtc-automl</td><td>capstone</td><td><a href=\"https://ml.azure.com/experiments/id/7d235f9f-b234-4612-b44b-b546ee50034a?wsid=/subscriptions/d876eeb1-1ac0-424f-8c00-6284386d5106/resourcegroups/nanodegree/workspaces/capstone&amp;tid=91db64d0-e9d0-43a4-a34b-2283395ed452\" target=\"_blank\" rel=\"noopener\">Link to Azure Machine Learning studio</a></td><td><a href=\"https://docs.microsoft.com/en-us/python/api/azureml-core/azureml.core.experiment.Experiment?view=azure-ml-py\" target=\"_blank\" rel=\"noopener\">Link to Documentation</a></td></tr></table>"
          },
          "metadata": {}
        }
      ],
      "execution_count": 6,
      "metadata": {
        "gather": {
          "logged": 1632726154540
        },
        "jupyter": {
          "outputs_hidden": false,
          "source_hidden": false
        },
        "nteract": {
          "transient": {
            "deleting": false
          }
        }
      }
    },
    {
      "cell_type": "code",
      "source": [
        "# create or retrieve a compute target\r\n",
        "\r\n",
        "# Choose a name for your CPU cluster\r\n",
        "cpu_cluster_name = \"capstone-cluster\"\r\n",
        "\r\n",
        "# Verify that cluster does not exist already\r\n",
        "try:\r\n",
        "    cpu_cluster = ComputeTarget(workspace=ws, name=cpu_cluster_name)\r\n",
        "    print('Found existing cluster, use it.')\r\n",
        "except ComputeTargetException:        \r\n",
        "    compute_config = AmlCompute.provisioning_configuration(vm_size='STANDARD_D2s_V3',\r\n",
        "                                                           max_nodes=4)\r\n",
        "    cpu_cluster = ComputeTarget.create(ws, cpu_cluster_name, compute_config)\r\n",
        "\r\n",
        "cpu_cluster.wait_for_completion(show_output=True)"
      ],
      "outputs": [
        {
          "output_type": "stream",
          "name": "stdout",
          "text": "Found existing cluster, use it.\nSucceeded\nAmlCompute wait for completion finished\n\nMinimum number of nodes requested have been provisioned\n"
        }
      ],
      "execution_count": 11,
      "metadata": {
        "jupyter": {
          "source_hidden": false,
          "outputs_hidden": false
        },
        "nteract": {
          "transient": {
            "deleting": false
          }
        },
        "gather": {
          "logged": 1632771348589
        }
      }
    },
    {
      "cell_type": "markdown",
      "source": [
        "## AutoML Configuration\n",
        "\n",
        "Here we set up a forecasting task for AutoML to forecast daily (`D`) data in 20 steps in the future horizon. \n",
        "We supply the train data that only contains `time` column and a target column `close` price in order to only do univariate forecast.\n",
        "We chose the default primary metric as `normalized_root_mean_squared_error`, but afterward we can extract `root_mean_squared_error` to compare with the HyperDrive model.\n",
        "\n"
      ],
      "metadata": {}
    },
    {
      "cell_type": "code",
      "source": [
        "from azureml.automl.core.forecasting_parameters import ForecastingParameters\r\n",
        "\r\n",
        "forecasting_parameters = ForecastingParameters(time_column_name='time', \r\n",
        "                                               forecast_horizon=20,                                               \r\n",
        "                                               freq='D')"
      ],
      "outputs": [],
      "execution_count": 13,
      "metadata": {
        "jupyter": {
          "source_hidden": false,
          "outputs_hidden": false
        },
        "nteract": {
          "transient": {
            "deleting": false
          }
        },
        "gather": {
          "logged": 1632726794580
        }
      }
    },
    {
      "cell_type": "code",
      "source": [
        "from azureml.core.workspace import Workspace\r\n",
        "from azureml.core.experiment import Experiment\r\n",
        "from azureml.train.automl import AutoMLConfig\r\n",
        "import logging\r\n",
        "\r\n",
        "automl_config = AutoMLConfig(task='forecasting',\r\n",
        "                             primary_metric='normalized_root_mean_squared_error',\r\n",
        "                             experiment_timeout_minutes=15,\r\n",
        "                             enable_early_stopping=True,\r\n",
        "                             training_data=train_data,\r\n",
        "                             label_column_name=target_column,\r\n",
        "                             n_cross_validations=3,\r\n",
        "                             enable_ensembling=False,\r\n",
        "                             verbosity=logging.INFO,\r\n",
        "                             forecasting_parameters=forecasting_parameters)"
      ],
      "outputs": [],
      "execution_count": null,
      "metadata": {
        "jupyter": {
          "source_hidden": false,
          "outputs_hidden": false
        },
        "nteract": {
          "transient": {
            "deleting": false
          }
        },
        "gather": {
          "logged": 1632453983462
        }
      }
    },
    {
      "cell_type": "code",
      "source": [
        "# Submit the experiment\r\n",
        "automl_run = experiment.submit(automl_config, show_output=True)"
      ],
      "outputs": [
        {
          "output_type": "stream",
          "name": "stdout",
          "text": "No run_configuration provided, running on local with default configuration\nRunning in the active local environment.\n"
        },
        {
          "output_type": "display_data",
          "data": {
            "text/plain": "<IPython.core.display.HTML object>",
            "text/html": "<table style=\"width:100%\"><tr><th>Experiment</th><th>Id</th><th>Type</th><th>Status</th><th>Details Page</th><th>Docs Page</th></tr><tr><td>forecast-ethbtc-automl</td><td>AutoML_4d4f91b7-5150-43ff-a8b3-d6b22fe69c76</td><td>automl</td><td>Preparing</td><td><a href=\"https://ml.azure.com/runs/AutoML_4d4f91b7-5150-43ff-a8b3-d6b22fe69c76?wsid=/subscriptions/d876eeb1-1ac0-424f-8c00-6284386d5106/resourcegroups/nanodegree/workspaces/capstone&amp;tid=91db64d0-e9d0-43a4-a34b-2283395ed452\" target=\"_blank\" rel=\"noopener\">Link to Azure Machine Learning studio</a></td><td><a href=\"https://docs.microsoft.com/en-us/python/api/overview/azure/ml/intro?view=azure-ml-py\" target=\"_blank\" rel=\"noopener\">Link to Documentation</a></td></tr></table>"
          },
          "metadata": {}
        },
        {
          "output_type": "stream",
          "name": "stdout",
          "text": "Current status: DatasetFeaturization. Beginning to featurize the dataset.\nCurrent status: DatasetFeaturizationCompleted. Completed featurizing the dataset.\nCurrent status: DatasetCrossValidationSplit. Generating individually featurized CV splits.\nCurrent status: DatasetFeaturization. Beginning to featurize the CV split.\nCurrent status: DatasetFeaturizationCompleted. Completed featurizing the CV split.\nCurrent status: DatasetFeaturization. Beginning to featurize the CV split.\nCurrent status: DatasetFeaturizationCompleted. Completed featurizing the CV split.\nCurrent status: DatasetFeaturization. Beginning to featurize the CV split.\nCurrent status: DatasetFeaturizationCompleted. Completed featurizing the CV split.\n\n****************************************************************************************************\nDATA GUARDRAILS: \n\nTYPE:         Missing feature values imputation\nSTATUS:       PASSED\nDESCRIPTION:  No feature missing values were detected in the training data.\n              Learn more about missing value imputation: https://aka.ms/AutomatedMLFeaturization\n\n****************************************************************************************************\n\nTYPE:         Short series handling\nSTATUS:       PASSED\nDESCRIPTION:  Automated ML detected enough data points for each series in the input data to continue with training.\n              \n\n****************************************************************************************************\nCurrent status: ModelSelection. Beginning model selection.\n\n****************************************************************************************************\nITERATION: The iteration being evaluated.\nPIPELINE: A summary description of the pipeline being evaluated.\nDURATION: Time taken for the current iteration.\nMETRIC: The result of computing score on the fitted pipeline.\nBEST: The best observed score thus far.\n****************************************************************************************************\n\n ITERATION   PIPELINE                                       DURATION      METRIC      BEST\n         0   Naive                                          0:00:28       0.0377    0.0377\n         1   SeasonalNaive                                  0:00:29       0.0565    0.0377\n         2   Average                                        0:00:32       0.2233    0.0377\n         3   SeasonalAverage                                0:00:29       0.0530    0.0377\n         4   ExponentialSmoothing                           0:00:51       0.0377    0.0377\n         5   AutoArima                                      0:00:33       0.0378    0.0377\n         6   ProphetModel                                   0:00:35       0.0552    0.0377\n         7   StandardScalerWrapper LightGBM                 0:00:24       0.0515    0.0377\n         8   StandardScalerWrapper XGBoostRegressor         0:00:27       0.0426    0.0377\n         9   MaxAbsScaler ElasticNet                        0:00:25       0.2239    0.0377\n        10   RobustScaler ElasticNet                        0:00:25       0.4718    0.0377\n        11   MinMaxScaler ElasticNet                        0:00:25       0.4217    0.0377\n        12   StandardScalerWrapper ElasticNet               0:00:28       0.4595    0.0377\n        13   MinMaxScaler RandomForest                      0:00:24       0.2623    0.0377\n        14   MaxAbsScaler ElasticNet                        0:00:22       0.2237    0.0377\n        15   StandardScalerWrapper ElasticNet               0:00:23       0.4351    0.0377\n        16   MaxAbsScaler ElasticNet                        0:00:23       0.2236    0.0377\n        17   StandardScalerWrapper ElasticNet               0:00:22       0.4416    0.0377\n        18   MinMaxScaler ExtremeRandomTrees                0:00:24       0.1976    0.0377\n        19   MinMaxScaler RandomForest                      0:00:19       0.1673    0.0377\n        20   MinMaxScaler ExtremeRandomTrees                0:00:23       0.2586    0.0377\n        21   MinMaxScaler ExtremeRandomTrees                0:00:22       0.2490    0.0377\n        22   MaxAbsScaler ExtremeRandomTrees                0:00:22       0.2375    0.0377\n        23   MinMaxScaler DecisionTree                      0:00:22       0.0483    0.0377\n        24   RobustScaler ExtremeRandomTrees                0:00:22       0.1860    0.0377\n        25   StandardScalerWrapper XGBoostRegressor         0:00:23       0.1322    0.0377\n        26   RobustScaler DecisionTree                      0:00:22       0.0483    0.0377\n        27   StandardScalerWrapper DecisionTree             0:00:22       0.0483    0.0377\n        28   RobustScaler DecisionTree                      0:00:22       0.0325    0.0325\n        29   StandardScalerWrapper DecisionTree             0:00:24       0.0483    0.0325\n        30   StandardScalerWrapper DecisionTree             0:00:23       0.0534    0.0325\n        31   StandardScalerWrapper RandomForest             0:00:24       0.0546    0.0325\n        32   StandardScalerWrapper DecisionTree             0:00:27       0.0553    0.0325\nStopping criteria reached at iteration 33. Ending experiment.\n****************************************************************************************************\nCurrent status: BestRunExplainModel. Best run model explanations started\nCurrent status: ModelExplanationDataSetSetup. Model explanations data setup completed\nCurrent status: PickSurrogateModel. Choosing LightGBM as the surrogate model for explanations\nCurrent status: EngineeredFeatureExplanations. Computation of engineered features started\nCurrent status: EngineeredFeatureExplanations. Computation of engineered features completed\nCurrent status: RawFeaturesExplanations. Computation of raw features started\nCurrent status: RawFeaturesExplanations. Computation of raw features completed\nCurrent status: BestRunExplainModel. Best run model explanations completed\n****************************************************************************************************\n"
        },
        {
          "output_type": "stream",
          "name": "stderr",
          "text": "INFO:interpret_community.common.explanation_utils:Using default datastore for uploads\n"
        }
      ],
      "execution_count": 52,
      "metadata": {
        "jupyter": {
          "source_hidden": false,
          "outputs_hidden": false
        },
        "nteract": {
          "transient": {
            "deleting": false
          }
        },
        "gather": {
          "logged": 1632454975043
        }
      }
    },
    {
      "cell_type": "code",
      "source": [
        "automl_run.wait_for_completion(show_output=False)"
      ],
      "outputs": [
        {
          "output_type": "execute_result",
          "execution_count": 54,
          "data": {
            "text/plain": "{'runId': 'AutoML_4d4f91b7-5150-43ff-a8b3-d6b22fe69c76',\n 'target': 'local',\n 'status': 'Completed',\n 'startTimeUtc': '2021-09-24T03:26:42.696062Z',\n 'endTimeUtc': '2021-09-24T03:41:51.421667Z',\n 'properties': {'num_iterations': '1000',\n  'training_type': 'TrainFull',\n  'acquisition_function': 'EI',\n  'primary_metric': 'normalized_root_mean_squared_error',\n  'train_split': '0',\n  'acquisition_parameter': '0',\n  'num_cross_validation': '3',\n  'target': 'local',\n  'AMLSettingsJsonString': '{\"path\":null,\"name\":\"forecast-ethbtc-automl\",\"subscription_id\":\"d876eeb1-1ac0-424f-8c00-6284386d5106\",\"resource_group\":\"nanodegree\",\"workspace_name\":\"capstone\",\"region\":\"westus\",\"compute_target\":\"local\",\"spark_service\":null,\"azure_service\":\"Microsoft.AzureNotebookVM\",\"many_models\":false,\"pipeline_fetch_max_batch_size\":1,\"enable_batch_run\":false,\"enable_run_restructure\":false,\"start_auxiliary_runs_before_parent_complete\":false,\"enable_code_generation\":false,\"iterations\":1000,\"primary_metric\":\"normalized_root_mean_squared_error\",\"task_type\":\"regression\",\"data_script\":null,\"test_size\":0.0,\"validation_size\":0.0,\"n_cross_validations\":3,\"y_min\":null,\"y_max\":null,\"num_classes\":null,\"featurization\":\"auto\",\"_ignore_package_version_incompatibilities\":false,\"is_timeseries\":true,\"max_cores_per_iteration\":1,\"max_concurrent_iterations\":1,\"iteration_timeout_minutes\":null,\"mem_in_mb\":null,\"enforce_time_on_windows\":false,\"experiment_timeout_minutes\":15,\"experiment_exit_score\":null,\"whitelist_models\":null,\"blacklist_algos\":[\"TensorFlowDNN\",\"TensorFlowLinearRegressor\"],\"supported_models\":[\"Naive\",\"GradientBoosting\",\"KNN\",\"AutoArima\",\"TCNForecaster\",\"Prophet\",\"SeasonalAverage\",\"TensorFlowDNN\",\"LightGBM\",\"ExponentialSmoothing\",\"TensorFlowLinearRegressor\",\"SGD\",\"LassoLars\",\"ElasticNet\",\"XGBoostRegressor\",\"DecisionTree\",\"ExtremeRandomTrees\",\"RandomForest\",\"SeasonalNaive\",\"Average\",\"Arimax\"],\"private_models\":[],\"auto_blacklist\":true,\"blacklist_samples_reached\":false,\"exclude_nan_labels\":true,\"verbosity\":20,\"_debug_log\":\"automl.log\",\"show_warnings\":false,\"model_explainability\":true,\"service_url\":null,\"sdk_url\":null,\"sdk_packages\":null,\"enable_onnx_compatible_models\":false,\"enable_split_onnx_featurizer_estimator_models\":false,\"vm_type\":null,\"telemetry_verbosity\":20,\"send_telemetry\":true,\"enable_dnn\":false,\"scenario\":\"SDK-1.13.0\",\"environment_label\":null,\"save_mlflow\":false,\"force_text_dnn\":false,\"enable_feature_sweeping\":false,\"time_column_name\":\"time\",\"grain_column_names\":null,\"drop_column_names\":[],\"max_horizon\":20,\"dropna\":false,\"overwrite_columns\":true,\"transform_dictionary\":{\"min\":\"_automl_target_col\",\"max\":\"_automl_target_col\",\"mean\":\"_automl_target_col\"},\"window_size\":null,\"country_or_region\":null,\"lags\":null,\"feature_lags\":null,\"seasonality\":\"auto\",\"use_stl\":null,\"short_series_handling\":true,\"freq\":\"D\",\"short_series_handling_configuration\":\"auto\",\"target_aggregation_function\":null,\"enable_early_stopping\":true,\"early_stopping_n_iters\":10,\"metrics\":null,\"enable_metric_confidence\":false,\"enable_ensembling\":false,\"enable_stack_ensembling\":false,\"ensemble_iterations\":15,\"enable_tf\":false,\"enable_subsampling\":false,\"subsample_seed\":null,\"enable_nimbusml\":false,\"enable_streaming\":false,\"force_streaming\":false,\"track_child_runs\":true,\"allowed_private_models\":[],\"label_column_name\":\"close\",\"weight_column_name\":null,\"cv_split_column_names\":null,\"enable_local_managed\":false,\"_local_managed_run_id\":null,\"cost_mode\":1,\"lag_length\":0,\"metric_operation\":\"minimize\",\"preprocess\":true}',\n  'DataPrepJsonString': None,\n  'EnableSubsampling': 'False',\n  'runTemplate': 'AutoML',\n  'azureml.runsource': 'automl',\n  'display_task_type': 'forecasting',\n  'dependencies_versions': '{\"azureml-widgets\": \"1.33.0\", \"azureml-train\": \"1.33.0\", \"azureml-train-restclients-hyperdrive\": \"1.33.0\", \"azureml-train-core\": \"1.33.0\", \"azureml-train-automl\": \"1.33.0\", \"azureml-train-automl-runtime\": \"1.33.0\", \"azureml-train-automl-client\": \"1.33.0\", \"azureml-tensorboard\": \"1.33.0\", \"azureml-telemetry\": \"1.33.0\", \"azureml-sdk\": \"1.33.0\", \"azureml-samples\": \"0+unknown\", \"azureml-responsibleai\": \"1.33.0\", \"azureml-pipeline\": \"1.33.0\", \"azureml-pipeline-steps\": \"1.33.0\", \"azureml-pipeline-core\": \"1.33.0\", \"azureml-opendatasets\": \"1.33.0\", \"azureml-mlflow\": \"1.33.0\", \"azureml-interpret\": \"1.33.0\", \"azureml-explain-model\": \"1.33.0\", \"azureml-defaults\": \"1.33.0\", \"azureml-dataset-runtime\": \"1.33.0\", \"azureml-dataprep\": \"2.20.1\", \"azureml-dataprep-rslex\": \"1.18.0\", \"azureml-dataprep-native\": \"38.0.0\", \"azureml-datadrift\": \"1.33.0\", \"azureml-core\": \"1.33.0\", \"azureml-contrib-services\": \"1.33.0\", \"azureml-contrib-server\": \"1.33.0\", \"azureml-contrib-reinforcementlearning\": \"1.33.0\", \"azureml-contrib-pipeline-steps\": \"1.33.0\", \"azureml-contrib-notebook\": \"1.33.0\", \"azureml-contrib-fairness\": \"1.33.0\", \"azureml-contrib-dataset\": \"1.33.0\", \"azureml-cli-common\": \"1.33.0\", \"azureml-automl-runtime\": \"1.33.0\", \"azureml-automl-dnn-nlp\": \"1.33.0\", \"azureml-automl-core\": \"1.33.0\", \"azureml-accel-models\": \"1.33.0\"}',\n  '_aml_system_scenario_identification': 'Local.Parent',\n  'ClientSdkVersion': '1.33.0',\n  'ClientType': 'SDK',\n  'environment_cpu_name': 'AzureML-AutoML',\n  'environment_cpu_label': 'prod',\n  'environment_gpu_name': 'AzureML-AutoML-GPU',\n  'environment_gpu_label': 'prod',\n  'root_attribution': 'automl',\n  'attribution': 'AutoML',\n  'Orchestrator': 'AutoML',\n  '_azureml.ComputeTargetType': 'local',\n  'forecasting_target_lags': '[0]',\n  'forecasting_target_rolling_window_size': '0',\n  'forecasting_max_horizon': '20',\n  'forecasting_freq': 'D',\n  'ProblemInfoJsonString': '{\"dataset_num_categorical\": 0, \"is_sparse\": false, \"subsampling\": false, \"has_extra_col\": false, \"dataset_classes\": 1435, \"dataset_features\": 9, \"dataset_samples\": 1468, \"single_frequency_class_detected\": false, \"series_column_count\": 1, \"series_count\": 1, \"series_len_min\": 1468, \"series_len_max\": 1468, \"series_len_avg\": 1468.0, \"series_len_perc_25\": 1468.0, \"series_len_perc_50\": 1468.0, \"series_len_perc_75\": 1468.0}'},\n 'inputDatasets': [],\n 'outputDatasets': [],\n 'logFiles': {},\n 'submittedBy': 'Nikyle Nguyen'}"
          },
          "metadata": {}
        }
      ],
      "execution_count": 54,
      "metadata": {
        "jupyter": {
          "source_hidden": false,
          "outputs_hidden": false
        },
        "nteract": {
          "transient": {
            "deleting": false
          }
        },
        "gather": {
          "logged": 1632455041816
        }
      }
    },
    {
      "cell_type": "markdown",
      "source": [
        "## Run Details\n",
        "\n",
        "OPTIONAL: Write about the different models trained and their performance. Why do you think some models did better than others?\n",
        "\n",
        "Use the `RunDetails` widget to show the different experiments."
      ],
      "metadata": {}
    },
    {
      "cell_type": "code",
      "source": [
        "# from azureml.train.automl.run import AutoMLRun\r\n",
        "# automl_run = AutoMLRun(experiment=experiment, run_id='AutoML_4d4f91b7-5150-43ff-a8b3-d6b22fe69c76')"
      ],
      "outputs": [],
      "execution_count": 8,
      "metadata": {
        "jupyter": {
          "source_hidden": false,
          "outputs_hidden": false
        },
        "nteract": {
          "transient": {
            "deleting": false
          }
        },
        "gather": {
          "logged": 1632726183469
        }
      }
    },
    {
      "cell_type": "code",
      "source": [
        "RunDetails(automl_run).show()"
      ],
      "outputs": [
        {
          "output_type": "display_data",
          "data": {
            "text/plain": "_AutoMLWidget(widget_settings={'childWidgetDisplay': 'popup', 'send_telemetry': False, 'log_level': 'INFO', 's…",
            "application/vnd.jupyter.widget-view+json": {
              "version_major": 2,
              "version_minor": 0,
              "model_id": "fd72c865f7be41758c2990c454956a21"
            }
          },
          "metadata": {}
        },
        {
          "output_type": "display_data",
          "data": {
            "application/aml.mini.widget.v1": "{\"status\": \"Completed\", \"workbench_run_details_uri\": \"https://ml.azure.com/runs/AutoML_4d4f91b7-5150-43ff-a8b3-d6b22fe69c76?wsid=/subscriptions/d876eeb1-1ac0-424f-8c00-6284386d5106/resourcegroups/nanodegree/workspaces/capstone&tid=91db64d0-e9d0-43a4-a34b-2283395ed452\", \"run_id\": \"AutoML_4d4f91b7-5150-43ff-a8b3-d6b22fe69c76\", \"run_properties\": {\"run_id\": \"AutoML_4d4f91b7-5150-43ff-a8b3-d6b22fe69c76\", \"created_utc\": \"2021-09-24T03:26:42.198544Z\", \"properties\": {\"num_iterations\": \"1000\", \"training_type\": \"TrainFull\", \"acquisition_function\": \"EI\", \"primary_metric\": \"normalized_root_mean_squared_error\", \"train_split\": \"0\", \"acquisition_parameter\": \"0\", \"num_cross_validation\": \"3\", \"target\": \"local\", \"AMLSettingsJsonString\": \"{\\\"path\\\":null,\\\"name\\\":\\\"forecast-ethbtc-automl\\\",\\\"subscription_id\\\":\\\"d876eeb1-1ac0-424f-8c00-6284386d5106\\\",\\\"resource_group\\\":\\\"nanodegree\\\",\\\"workspace_name\\\":\\\"capstone\\\",\\\"region\\\":\\\"westus\\\",\\\"compute_target\\\":\\\"local\\\",\\\"spark_service\\\":null,\\\"azure_service\\\":\\\"Microsoft.AzureNotebookVM\\\",\\\"many_models\\\":false,\\\"pipeline_fetch_max_batch_size\\\":1,\\\"enable_batch_run\\\":false,\\\"enable_run_restructure\\\":false,\\\"start_auxiliary_runs_before_parent_complete\\\":false,\\\"enable_code_generation\\\":false,\\\"iterations\\\":1000,\\\"primary_metric\\\":\\\"normalized_root_mean_squared_error\\\",\\\"task_type\\\":\\\"regression\\\",\\\"data_script\\\":null,\\\"test_size\\\":0.0,\\\"validation_size\\\":0.0,\\\"n_cross_validations\\\":3,\\\"y_min\\\":null,\\\"y_max\\\":null,\\\"num_classes\\\":null,\\\"featurization\\\":\\\"auto\\\",\\\"_ignore_package_version_incompatibilities\\\":false,\\\"is_timeseries\\\":true,\\\"max_cores_per_iteration\\\":1,\\\"max_concurrent_iterations\\\":1,\\\"iteration_timeout_minutes\\\":null,\\\"mem_in_mb\\\":null,\\\"enforce_time_on_windows\\\":false,\\\"experiment_timeout_minutes\\\":15,\\\"experiment_exit_score\\\":null,\\\"whitelist_models\\\":null,\\\"blacklist_algos\\\":[\\\"TensorFlowDNN\\\",\\\"TensorFlowLinearRegressor\\\"],\\\"supported_models\\\":[\\\"Naive\\\",\\\"GradientBoosting\\\",\\\"KNN\\\",\\\"AutoArima\\\",\\\"TCNForecaster\\\",\\\"Prophet\\\",\\\"SeasonalAverage\\\",\\\"TensorFlowDNN\\\",\\\"LightGBM\\\",\\\"ExponentialSmoothing\\\",\\\"TensorFlowLinearRegressor\\\",\\\"SGD\\\",\\\"LassoLars\\\",\\\"ElasticNet\\\",\\\"XGBoostRegressor\\\",\\\"DecisionTree\\\",\\\"ExtremeRandomTrees\\\",\\\"RandomForest\\\",\\\"SeasonalNaive\\\",\\\"Average\\\",\\\"Arimax\\\"],\\\"private_models\\\":[],\\\"auto_blacklist\\\":true,\\\"blacklist_samples_reached\\\":false,\\\"exclude_nan_labels\\\":true,\\\"verbosity\\\":20,\\\"_debug_log\\\":\\\"automl.log\\\",\\\"show_warnings\\\":false,\\\"model_explainability\\\":true,\\\"service_url\\\":null,\\\"sdk_url\\\":null,\\\"sdk_packages\\\":null,\\\"enable_onnx_compatible_models\\\":false,\\\"enable_split_onnx_featurizer_estimator_models\\\":false,\\\"vm_type\\\":null,\\\"telemetry_verbosity\\\":20,\\\"send_telemetry\\\":true,\\\"enable_dnn\\\":false,\\\"scenario\\\":\\\"SDK-1.13.0\\\",\\\"environment_label\\\":null,\\\"save_mlflow\\\":false,\\\"force_text_dnn\\\":false,\\\"enable_feature_sweeping\\\":false,\\\"time_column_name\\\":\\\"time\\\",\\\"grain_column_names\\\":null,\\\"drop_column_names\\\":[],\\\"max_horizon\\\":20,\\\"dropna\\\":false,\\\"overwrite_columns\\\":true,\\\"transform_dictionary\\\":{\\\"min\\\":\\\"_automl_target_col\\\",\\\"max\\\":\\\"_automl_target_col\\\",\\\"mean\\\":\\\"_automl_target_col\\\"},\\\"window_size\\\":null,\\\"country_or_region\\\":null,\\\"lags\\\":null,\\\"feature_lags\\\":null,\\\"seasonality\\\":\\\"auto\\\",\\\"use_stl\\\":null,\\\"short_series_handling\\\":true,\\\"freq\\\":\\\"D\\\",\\\"short_series_handling_configuration\\\":\\\"auto\\\",\\\"target_aggregation_function\\\":null,\\\"enable_early_stopping\\\":true,\\\"early_stopping_n_iters\\\":10,\\\"metrics\\\":null,\\\"enable_metric_confidence\\\":false,\\\"enable_ensembling\\\":false,\\\"enable_stack_ensembling\\\":false,\\\"ensemble_iterations\\\":15,\\\"enable_tf\\\":false,\\\"enable_subsampling\\\":false,\\\"subsample_seed\\\":null,\\\"enable_nimbusml\\\":false,\\\"enable_streaming\\\":false,\\\"force_streaming\\\":false,\\\"track_child_runs\\\":true,\\\"allowed_private_models\\\":[],\\\"label_column_name\\\":\\\"close\\\",\\\"weight_column_name\\\":null,\\\"cv_split_column_names\\\":null,\\\"enable_local_managed\\\":false,\\\"_local_managed_run_id\\\":null,\\\"cost_mode\\\":1,\\\"lag_length\\\":0,\\\"metric_operation\\\":\\\"minimize\\\",\\\"preprocess\\\":true}\", \"DataPrepJsonString\": null, \"EnableSubsampling\": \"False\", \"runTemplate\": \"AutoML\", \"azureml.runsource\": \"automl\", \"display_task_type\": \"forecasting\", \"dependencies_versions\": \"{\\\"azureml-widgets\\\": \\\"1.33.0\\\", \\\"azureml-train\\\": \\\"1.33.0\\\", \\\"azureml-train-restclients-hyperdrive\\\": \\\"1.33.0\\\", \\\"azureml-train-core\\\": \\\"1.33.0\\\", \\\"azureml-train-automl\\\": \\\"1.33.0\\\", \\\"azureml-train-automl-runtime\\\": \\\"1.33.0\\\", \\\"azureml-train-automl-client\\\": \\\"1.33.0\\\", \\\"azureml-tensorboard\\\": \\\"1.33.0\\\", \\\"azureml-telemetry\\\": \\\"1.33.0\\\", \\\"azureml-sdk\\\": \\\"1.33.0\\\", \\\"azureml-samples\\\": \\\"0+unknown\\\", \\\"azureml-responsibleai\\\": \\\"1.33.0\\\", \\\"azureml-pipeline\\\": \\\"1.33.0\\\", \\\"azureml-pipeline-steps\\\": \\\"1.33.0\\\", \\\"azureml-pipeline-core\\\": \\\"1.33.0\\\", \\\"azureml-opendatasets\\\": \\\"1.33.0\\\", \\\"azureml-mlflow\\\": \\\"1.33.0\\\", \\\"azureml-interpret\\\": \\\"1.33.0\\\", \\\"azureml-explain-model\\\": \\\"1.33.0\\\", \\\"azureml-defaults\\\": \\\"1.33.0\\\", \\\"azureml-dataset-runtime\\\": \\\"1.33.0\\\", \\\"azureml-dataprep\\\": \\\"2.20.1\\\", \\\"azureml-dataprep-rslex\\\": \\\"1.18.0\\\", \\\"azureml-dataprep-native\\\": \\\"38.0.0\\\", \\\"azureml-datadrift\\\": \\\"1.33.0\\\", \\\"azureml-core\\\": \\\"1.33.0\\\", \\\"azureml-contrib-services\\\": \\\"1.33.0\\\", \\\"azureml-contrib-server\\\": \\\"1.33.0\\\", \\\"azureml-contrib-reinforcementlearning\\\": \\\"1.33.0\\\", \\\"azureml-contrib-pipeline-steps\\\": \\\"1.33.0\\\", \\\"azureml-contrib-notebook\\\": \\\"1.33.0\\\", \\\"azureml-contrib-fairness\\\": \\\"1.33.0\\\", \\\"azureml-contrib-dataset\\\": \\\"1.33.0\\\", \\\"azureml-cli-common\\\": \\\"1.33.0\\\", \\\"azureml-automl-runtime\\\": \\\"1.33.0\\\", \\\"azureml-automl-dnn-nlp\\\": \\\"1.33.0\\\", \\\"azureml-automl-core\\\": \\\"1.33.0\\\", \\\"azureml-accel-models\\\": \\\"1.33.0\\\"}\", \"_aml_system_scenario_identification\": \"Local.Parent\", \"ClientSdkVersion\": \"1.33.0\", \"ClientType\": \"SDK\", \"environment_cpu_name\": \"AzureML-AutoML\", \"environment_cpu_label\": \"prod\", \"environment_gpu_name\": \"AzureML-AutoML-GPU\", \"environment_gpu_label\": \"prod\", \"root_attribution\": \"automl\", \"attribution\": \"AutoML\", \"Orchestrator\": \"AutoML\", \"_azureml.ComputeTargetType\": \"local\", \"forecasting_target_lags\": \"[0]\", \"forecasting_target_rolling_window_size\": \"0\", \"forecasting_max_horizon\": \"20\", \"forecasting_freq\": \"D\", \"ProblemInfoJsonString\": \"{\\\"dataset_num_categorical\\\": 0, \\\"is_sparse\\\": false, \\\"subsampling\\\": false, \\\"has_extra_col\\\": false, \\\"dataset_classes\\\": 1435, \\\"dataset_features\\\": 9, \\\"dataset_samples\\\": 1468, \\\"single_frequency_class_detected\\\": false, \\\"series_column_count\\\": 1, \\\"series_count\\\": 1, \\\"series_len_min\\\": 1468, \\\"series_len_max\\\": 1468, \\\"series_len_avg\\\": 1468.0, \\\"series_len_perc_25\\\": 1468.0, \\\"series_len_perc_50\\\": 1468.0, \\\"series_len_perc_75\\\": 1468.0}\"}, \"tags\": {\"model_explain_run\": \"best_run\", \"best_score\": \"0.03247396168428657\", \"best_pipeline\": \"DecisionTree\", \"automl_best_child_run_id\": \"AutoML_4d4f91b7-5150-43ff-a8b3-d6b22fe69c76_28\", \"model_explain_best_run_child_id\": \"AutoML_4d4f91b7-5150-43ff-a8b3-d6b22fe69c76_28\"}, \"end_time_utc\": \"2021-09-24T03:41:51.421667Z\", \"status\": \"Completed\", \"log_files\": {}, \"log_groups\": [], \"run_duration\": \"0:15:09\", \"run_number\": \"39\", \"run_queued_details\": {\"status\": \"Completed\", \"details\": null}}, \"child_runs\": [{\"run_id\": \"AutoML_4d4f91b7-5150-43ff-a8b3-d6b22fe69c76_0\", \"run_number\": 40, \"metric\": null, \"status\": \"Completed\", \"run_type\": null, \"training_percent\": \"100\", \"start_time\": \"2021-09-24T03:26:59.259805Z\", \"end_time\": \"2021-09-24T03:27:27.466262Z\", \"created_time\": \"2021-09-24T03:26:59.089898Z\", \"created_time_dt\": \"2021-09-24T03:26:59.089898Z\", \"duration\": \"0:00:28\", \"iteration\": \"0\", \"goal\": \"normalized_root_mean_squared_error_min\", \"run_name\": \"Naive\", \"run_properties\": \"\\n    timeseries_param_dict={'time_column_name': 'time', 'grain_column_names': None, 'drop_column_names': [], 'overwrite_columns': True, 'dropna': False, 'transform_dictionary': {'min': '_automl_target_col', 'max': '_automl_target_col', 'mean': '_automl_target_col'}, 'max_horizon': 20, 'origin_time_colname': 'origin', 'country_or_region': None, 'n_cross_validations': 3, 'short_series_handling': True, 'max_cores_per_iteration': 1, 'feature_lags': None, 'target_aggregation_function': None, 'seasonality': 7, 'use_stl': None, 'freq': 'D', 'short_series_handling_configuration': 'auto', 'target_lags': [0], 'target_rolling_window_size': 0, 'arimax_raw_columns': ['time']}\\n\", \"primary_metric\": 0.03773724, \"best_metric\": 0.03773724}, {\"run_id\": \"AutoML_4d4f91b7-5150-43ff-a8b3-d6b22fe69c76_1\", \"run_number\": 41, \"metric\": null, \"status\": \"Completed\", \"run_type\": null, \"training_percent\": \"100\", \"start_time\": \"2021-09-24T03:27:27.736329Z\", \"end_time\": \"2021-09-24T03:27:56.860173Z\", \"created_time\": \"2021-09-24T03:27:27.640056Z\", \"created_time_dt\": \"2021-09-24T03:27:27.640056Z\", \"duration\": \"0:00:29\", \"iteration\": \"1\", \"goal\": \"normalized_root_mean_squared_error_min\", \"run_name\": \"SeasonalNaive\", \"run_properties\": \"\\n    timeseries_param_dict={'time_column_name': 'time', 'grain_column_names': None, 'drop_column_names': [], 'overwrite_columns': True, 'dropna': False, 'transform_dictionary': {'min': '_automl_target_col', 'max': '_automl_target_col', 'mean': '_automl_target_col'}, 'max_horizon': 20, 'origin_time_colname': 'origin', 'country_or_region': None, 'n_cross_validations': 3, 'short_series_handling': True, 'max_cores_per_iteration': 1, 'feature_lags': None, 'target_aggregation_function': None, 'seasonality': 7, 'use_stl': None, 'freq': 'D', 'short_series_handling_configuration': 'auto', 'target_lags': [0], 'target_rolling_window_size': 0, 'arimax_raw_columns': ['time']}\\n\", \"primary_metric\": 0.05653069, \"best_metric\": 0.03773724}, {\"run_id\": \"AutoML_4d4f91b7-5150-43ff-a8b3-d6b22fe69c76_2\", \"run_number\": 42, \"metric\": null, \"status\": \"Completed\", \"run_type\": null, \"training_percent\": \"100\", \"start_time\": \"2021-09-24T03:27:57.353144Z\", \"end_time\": \"2021-09-24T03:28:29.673584Z\", \"created_time\": \"2021-09-24T03:27:57.150483Z\", \"created_time_dt\": \"2021-09-24T03:27:57.150483Z\", \"duration\": \"0:00:32\", \"iteration\": \"2\", \"goal\": \"normalized_root_mean_squared_error_min\", \"run_name\": \"Average\", \"run_properties\": \"\\n    timeseries_param_dict={'time_column_name': 'time', 'grain_column_names': None, 'drop_column_names': [], 'overwrite_columns': True, 'dropna': False, 'transform_dictionary': {'min': '_automl_target_col', 'max': '_automl_target_col', 'mean': '_automl_target_col'}, 'max_horizon': 20, 'origin_time_colname': 'origin', 'country_or_region': None, 'n_cross_validations': 3, 'short_series_handling': True, 'max_cores_per_iteration': 1, 'feature_lags': None, 'target_aggregation_function': None, 'seasonality': 7, 'use_stl': None, 'freq': 'D', 'short_series_handling_configuration': 'auto', 'target_lags': [0], 'target_rolling_window_size': 0, 'arimax_raw_columns': ['time']}\\n\", \"primary_metric\": 0.2233128, \"best_metric\": 0.03773724}, {\"run_id\": \"AutoML_4d4f91b7-5150-43ff-a8b3-d6b22fe69c76_3\", \"run_number\": 43, \"metric\": null, \"status\": \"Completed\", \"run_type\": null, \"training_percent\": \"100\", \"start_time\": \"2021-09-24T03:28:30.163653Z\", \"end_time\": \"2021-09-24T03:28:59.110536Z\", \"created_time\": \"2021-09-24T03:28:29.974006Z\", \"created_time_dt\": \"2021-09-24T03:28:29.974006Z\", \"duration\": \"0:00:29\", \"iteration\": \"3\", \"goal\": \"normalized_root_mean_squared_error_min\", \"run_name\": \"SeasonalAverage\", \"run_properties\": \"\\n    timeseries_param_dict={'time_column_name': 'time', 'grain_column_names': None, 'drop_column_names': [], 'overwrite_columns': True, 'dropna': False, 'transform_dictionary': {'min': '_automl_target_col', 'max': '_automl_target_col', 'mean': '_automl_target_col'}, 'max_horizon': 20, 'origin_time_colname': 'origin', 'country_or_region': None, 'n_cross_validations': 3, 'short_series_handling': True, 'max_cores_per_iteration': 1, 'feature_lags': None, 'target_aggregation_function': None, 'seasonality': 7, 'use_stl': None, 'freq': 'D', 'short_series_handling_configuration': 'auto', 'target_lags': [0], 'target_rolling_window_size': 0, 'arimax_raw_columns': ['time']}\\n\", \"primary_metric\": 0.05302597, \"best_metric\": 0.03773724}, {\"run_id\": \"AutoML_4d4f91b7-5150-43ff-a8b3-d6b22fe69c76_4\", \"run_number\": 44, \"metric\": null, \"status\": \"Completed\", \"run_type\": null, \"training_percent\": \"100\", \"start_time\": \"2021-09-24T03:28:59.644069Z\", \"end_time\": \"2021-09-24T03:29:51.16631Z\", \"created_time\": \"2021-09-24T03:28:59.406448Z\", \"created_time_dt\": \"2021-09-24T03:28:59.406448Z\", \"duration\": \"0:00:51\", \"iteration\": \"4\", \"goal\": \"normalized_root_mean_squared_error_min\", \"run_name\": \"ExponentialSmoothing\", \"run_properties\": \"\\n    timeseries_param_dict={'time_column_name': 'time', 'grain_column_names': None, 'drop_column_names': [], 'overwrite_columns': True, 'dropna': False, 'transform_dictionary': {'min': '_automl_target_col', 'max': '_automl_target_col', 'mean': '_automl_target_col'}, 'max_horizon': 20, 'origin_time_colname': 'origin', 'country_or_region': None, 'n_cross_validations': 3, 'short_series_handling': True, 'max_cores_per_iteration': 1, 'feature_lags': None, 'target_aggregation_function': None, 'seasonality': 7, 'use_stl': None, 'freq': 'D', 'short_series_handling_configuration': 'auto', 'target_lags': [0], 'target_rolling_window_size': 0, 'arimax_raw_columns': ['time']}\\n\", \"primary_metric\": 0.03773711, \"best_metric\": 0.03773711}, {\"run_id\": \"AutoML_4d4f91b7-5150-43ff-a8b3-d6b22fe69c76_5\", \"run_number\": 45, \"metric\": null, \"status\": \"Completed\", \"run_type\": null, \"training_percent\": \"100\", \"start_time\": \"2021-09-24T03:29:51.771462Z\", \"end_time\": \"2021-09-24T03:30:25.043656Z\", \"created_time\": \"2021-09-24T03:29:51.56874Z\", \"created_time_dt\": \"2021-09-24T03:29:51.56874Z\", \"duration\": \"0:00:33\", \"iteration\": \"5\", \"goal\": \"normalized_root_mean_squared_error_min\", \"run_name\": \"AutoArima\", \"run_properties\": \"\\n    timeseries_param_dict={'time_column_name': 'time', 'grain_column_names': None, 'drop_column_names': [], 'overwrite_columns': True, 'dropna': False, 'transform_dictionary': {'min': '_automl_target_col', 'max': '_automl_target_col', 'mean': '_automl_target_col'}, 'max_horizon': 20, 'origin_time_colname': 'origin', 'country_or_region': None, 'n_cross_validations': 3, 'short_series_handling': True, 'max_cores_per_iteration': 1, 'feature_lags': None, 'target_aggregation_function': None, 'seasonality': 7, 'use_stl': None, 'freq': 'D', 'short_series_handling_configuration': 'auto', 'target_lags': [0], 'target_rolling_window_size': 0, 'arimax_raw_columns': ['time']}\\n\", \"primary_metric\": 0.03779083, \"best_metric\": 0.03773711}, {\"run_id\": \"AutoML_4d4f91b7-5150-43ff-a8b3-d6b22fe69c76_6\", \"run_number\": 46, \"metric\": null, \"status\": \"Completed\", \"run_type\": null, \"training_percent\": \"100\", \"start_time\": \"2021-09-24T03:30:25.521952Z\", \"end_time\": \"2021-09-24T03:31:00.645476Z\", \"created_time\": \"2021-09-24T03:30:25.330535Z\", \"created_time_dt\": \"2021-09-24T03:30:25.330535Z\", \"duration\": \"0:00:35\", \"iteration\": \"6\", \"goal\": \"normalized_root_mean_squared_error_min\", \"run_name\": \"ProphetModel\", \"run_properties\": \"\\n    timeseries_param_dict={'time_column_name': 'time', 'grain_column_names': None, 'drop_column_names': [], 'overwrite_columns': True, 'dropna': False, 'transform_dictionary': {'min': '_automl_target_col', 'max': '_automl_target_col', 'mean': '_automl_target_col'}, 'max_horizon': 20, 'origin_time_colname': 'origin', 'country_or_region': None, 'n_cross_validations': 3, 'short_series_handling': True, 'max_cores_per_iteration': 1, 'feature_lags': None, 'target_aggregation_function': None, 'seasonality': 7, 'use_stl': None, 'freq': 'D', 'short_series_handling_configuration': 'auto', 'target_lags': [0], 'target_rolling_window_size': 0, 'arimax_raw_columns': ['time']},\\n    prophet_param_dict={'uncertainty_samples': 0}\\n\", \"primary_metric\": 0.05523104, \"best_metric\": 0.03773711}, {\"run_id\": \"AutoML_4d4f91b7-5150-43ff-a8b3-d6b22fe69c76_7\", \"run_number\": 47, \"metric\": null, \"status\": \"Completed\", \"run_type\": null, \"training_percent\": \"100\", \"start_time\": \"2021-09-24T03:31:01.5623Z\", \"end_time\": \"2021-09-24T03:31:26.398683Z\", \"created_time\": \"2021-09-24T03:31:01.357543Z\", \"created_time_dt\": \"2021-09-24T03:31:01.357543Z\", \"duration\": \"0:00:25\", \"iteration\": \"7\", \"goal\": \"normalized_root_mean_squared_error_min\", \"run_name\": \"StandardScalerWrapper, LightGBM\", \"run_properties\": \"\\n    copy=True,\\n    with_mean=False,\\n    with_std=False\\n\", \"primary_metric\": 0.05153686, \"best_metric\": 0.03773711}, {\"run_id\": \"AutoML_4d4f91b7-5150-43ff-a8b3-d6b22fe69c76_8\", \"run_number\": 48, \"metric\": null, \"status\": \"Completed\", \"run_type\": null, \"training_percent\": \"100\", \"start_time\": \"2021-09-24T03:31:27.506344Z\", \"end_time\": \"2021-09-24T03:31:55.002479Z\", \"created_time\": \"2021-09-24T03:31:27.284002Z\", \"created_time_dt\": \"2021-09-24T03:31:27.284002Z\", \"duration\": \"0:00:27\", \"iteration\": \"8\", \"goal\": \"normalized_root_mean_squared_error_min\", \"run_name\": \"StandardScalerWrapper, XGBoostRegressor\", \"run_properties\": \"\\n    copy=True,\\n    with_mean=False,\\n    with_std=False\\n\", \"primary_metric\": 0.04262474, \"best_metric\": 0.03773711}, {\"run_id\": \"AutoML_4d4f91b7-5150-43ff-a8b3-d6b22fe69c76_9\", \"run_number\": 49, \"metric\": null, \"status\": \"Completed\", \"run_type\": null, \"training_percent\": \"100\", \"start_time\": \"2021-09-24T03:31:56.082566Z\", \"end_time\": \"2021-09-24T03:32:21.569077Z\", \"created_time\": \"2021-09-24T03:31:55.878985Z\", \"created_time_dt\": \"2021-09-24T03:31:55.878985Z\", \"duration\": \"0:00:25\", \"iteration\": \"9\", \"goal\": \"normalized_root_mean_squared_error_min\", \"run_name\": \"MaxAbsScaler, ElasticNet\", \"run_properties\": \"copy=True\", \"primary_metric\": 0.22392742, \"best_metric\": 0.03773711}, {\"run_id\": \"AutoML_4d4f91b7-5150-43ff-a8b3-d6b22fe69c76_10\", \"run_number\": 50, \"metric\": null, \"status\": \"Completed\", \"run_type\": null, \"training_percent\": \"100\", \"start_time\": \"2021-09-24T03:32:22.793601Z\", \"end_time\": \"2021-09-24T03:32:48.138316Z\", \"created_time\": \"2021-09-24T03:32:22.596915Z\", \"created_time_dt\": \"2021-09-24T03:32:22.596915Z\", \"duration\": \"0:00:25\", \"iteration\": \"10\", \"goal\": \"normalized_root_mean_squared_error_min\", \"run_name\": \"RobustScaler, ElasticNet\", \"run_properties\": \"copy=True, quantile_range=[10, 90], with_centering=True,\\n             with_scaling=False\", \"primary_metric\": 0.47180503, \"best_metric\": 0.03773711}, {\"run_id\": \"AutoML_4d4f91b7-5150-43ff-a8b3-d6b22fe69c76_11\", \"run_number\": 51, \"metric\": null, \"status\": \"Completed\", \"run_type\": null, \"training_percent\": \"100\", \"start_time\": \"2021-09-24T03:32:49.05186Z\", \"end_time\": \"2021-09-24T03:33:14.712338Z\", \"created_time\": \"2021-09-24T03:32:48.954309Z\", \"created_time_dt\": \"2021-09-24T03:32:48.954309Z\", \"duration\": \"0:00:25\", \"iteration\": \"11\", \"goal\": \"normalized_root_mean_squared_error_min\", \"run_name\": \"MinMaxScaler, ElasticNet\", \"run_properties\": \"copy=True, feature_range=(0, 1\", \"primary_metric\": 0.42166286, \"best_metric\": 0.03773711}, {\"run_id\": \"AutoML_4d4f91b7-5150-43ff-a8b3-d6b22fe69c76_12\", \"run_number\": 52, \"metric\": null, \"status\": \"Completed\", \"run_type\": null, \"training_percent\": \"100\", \"start_time\": \"2021-09-24T03:33:15.920255Z\", \"end_time\": \"2021-09-24T03:33:44.049509Z\", \"created_time\": \"2021-09-24T03:33:15.809383Z\", \"created_time_dt\": \"2021-09-24T03:33:15.809383Z\", \"duration\": \"0:00:28\", \"iteration\": \"12\", \"goal\": \"normalized_root_mean_squared_error_min\", \"run_name\": \"StandardScalerWrapper, ElasticNet\", \"run_properties\": \"\\n    copy=True,\\n    with_mean=False,\\n    with_std=True\\n\", \"primary_metric\": 0.45952335, \"best_metric\": 0.03773711}, {\"run_id\": \"AutoML_4d4f91b7-5150-43ff-a8b3-d6b22fe69c76_13\", \"run_number\": 53, \"metric\": null, \"status\": \"Completed\", \"run_type\": null, \"training_percent\": \"100\", \"start_time\": \"2021-09-24T03:33:44.916631Z\", \"end_time\": \"2021-09-24T03:34:08.983418Z\", \"created_time\": \"2021-09-24T03:33:44.819199Z\", \"created_time_dt\": \"2021-09-24T03:33:44.819199Z\", \"duration\": \"0:00:24\", \"iteration\": \"13\", \"goal\": \"normalized_root_mean_squared_error_min\", \"run_name\": \"MinMaxScaler, RandomForest\", \"run_properties\": \"copy=True, feature_range=(0, 1\", \"primary_metric\": 0.26234956, \"best_metric\": 0.03773711}, {\"run_id\": \"AutoML_4d4f91b7-5150-43ff-a8b3-d6b22fe69c76_14\", \"run_number\": 54, \"metric\": null, \"status\": \"Completed\", \"run_type\": null, \"training_percent\": \"100\", \"start_time\": \"2021-09-24T03:34:09.848113Z\", \"end_time\": \"2021-09-24T03:34:32.633254Z\", \"created_time\": \"2021-09-24T03:34:09.752407Z\", \"created_time_dt\": \"2021-09-24T03:34:09.752407Z\", \"duration\": \"0:00:22\", \"iteration\": \"14\", \"goal\": \"normalized_root_mean_squared_error_min\", \"run_name\": \"MaxAbsScaler, ElasticNet\", \"run_properties\": \"copy=True\", \"primary_metric\": 0.22374127, \"best_metric\": 0.03773711}, {\"run_id\": \"AutoML_4d4f91b7-5150-43ff-a8b3-d6b22fe69c76_15\", \"run_number\": 55, \"metric\": null, \"status\": \"Completed\", \"run_type\": null, \"training_percent\": \"100\", \"start_time\": \"2021-09-24T03:34:33.481792Z\", \"end_time\": \"2021-09-24T03:34:56.870739Z\", \"created_time\": \"2021-09-24T03:34:33.376553Z\", \"created_time_dt\": \"2021-09-24T03:34:33.376553Z\", \"duration\": \"0:00:23\", \"iteration\": \"15\", \"goal\": \"normalized_root_mean_squared_error_min\", \"run_name\": \"StandardScalerWrapper, ElasticNet\", \"run_properties\": \"\\n    copy=True,\\n    with_mean=True,\\n    with_std=False\\n\", \"primary_metric\": 0.4350594, \"best_metric\": 0.03773711}, {\"run_id\": \"AutoML_4d4f91b7-5150-43ff-a8b3-d6b22fe69c76_16\", \"run_number\": 56, \"metric\": null, \"status\": \"Completed\", \"run_type\": null, \"training_percent\": \"100\", \"start_time\": \"2021-09-24T03:34:57.78726Z\", \"end_time\": \"2021-09-24T03:35:21.594785Z\", \"created_time\": \"2021-09-24T03:34:57.663306Z\", \"created_time_dt\": \"2021-09-24T03:34:57.663306Z\", \"duration\": \"0:00:23\", \"iteration\": \"16\", \"goal\": \"normalized_root_mean_squared_error_min\", \"run_name\": \"MaxAbsScaler, ElasticNet\", \"run_properties\": \"copy=True\", \"primary_metric\": 0.22355492, \"best_metric\": 0.03773711}, {\"run_id\": \"AutoML_4d4f91b7-5150-43ff-a8b3-d6b22fe69c76_17\", \"run_number\": 57, \"metric\": null, \"status\": \"Completed\", \"run_type\": null, \"training_percent\": \"100\", \"start_time\": \"2021-09-24T03:35:22.5004Z\", \"end_time\": \"2021-09-24T03:35:44.673796Z\", \"created_time\": \"2021-09-24T03:35:22.398754Z\", \"created_time_dt\": \"2021-09-24T03:35:22.398754Z\", \"duration\": \"0:00:22\", \"iteration\": \"17\", \"goal\": \"normalized_root_mean_squared_error_min\", \"run_name\": \"StandardScalerWrapper, ElasticNet\", \"run_properties\": \"\\n    copy=True,\\n    with_mean=True,\\n    with_std=False\\n\", \"primary_metric\": 0.44162092, \"best_metric\": 0.03773711}, {\"run_id\": \"AutoML_4d4f91b7-5150-43ff-a8b3-d6b22fe69c76_18\", \"run_number\": 58, \"metric\": null, \"status\": \"Completed\", \"run_type\": null, \"training_percent\": \"100\", \"start_time\": \"2021-09-24T03:35:45.635604Z\", \"end_time\": \"2021-09-24T03:36:08.974998Z\", \"created_time\": \"2021-09-24T03:35:45.524026Z\", \"created_time_dt\": \"2021-09-24T03:35:45.524026Z\", \"duration\": \"0:00:23\", \"iteration\": \"18\", \"goal\": \"normalized_root_mean_squared_error_min\", \"run_name\": \"MinMaxScaler, ExtremeRandomTrees\", \"run_properties\": \"copy=True, feature_range=(0, 1\", \"primary_metric\": 0.19757927, \"best_metric\": 0.03773711}, {\"run_id\": \"AutoML_4d4f91b7-5150-43ff-a8b3-d6b22fe69c76_19\", \"run_number\": 59, \"metric\": null, \"status\": \"Completed\", \"run_type\": null, \"training_percent\": \"100\", \"start_time\": \"2021-09-24T03:36:11.220965Z\", \"end_time\": \"2021-09-24T03:36:30.709523Z\", \"created_time\": \"2021-09-24T03:36:11.114259Z\", \"created_time_dt\": \"2021-09-24T03:36:11.114259Z\", \"duration\": \"0:00:19\", \"iteration\": \"19\", \"goal\": \"normalized_root_mean_squared_error_min\", \"run_name\": \"MinMaxScaler, RandomForest\", \"run_properties\": \"copy=True, feature_range=(0, 1\", \"primary_metric\": 0.16728447, \"best_metric\": 0.03773711}, {\"run_id\": \"AutoML_4d4f91b7-5150-43ff-a8b3-d6b22fe69c76_20\", \"run_number\": 60, \"metric\": null, \"status\": \"Completed\", \"run_type\": null, \"training_percent\": \"100\", \"start_time\": \"2021-09-24T03:36:31.670493Z\", \"end_time\": \"2021-09-24T03:36:54.638316Z\", \"created_time\": \"2021-09-24T03:36:31.561549Z\", \"created_time_dt\": \"2021-09-24T03:36:31.561549Z\", \"duration\": \"0:00:23\", \"iteration\": \"20\", \"goal\": \"normalized_root_mean_squared_error_min\", \"run_name\": \"MinMaxScaler, ExtremeRandomTrees\", \"run_properties\": \"copy=True, feature_range=(0, 1\", \"primary_metric\": 0.25857205, \"best_metric\": 0.03773711}, {\"run_id\": \"AutoML_4d4f91b7-5150-43ff-a8b3-d6b22fe69c76_21\", \"run_number\": 61, \"metric\": null, \"status\": \"Completed\", \"run_type\": null, \"training_percent\": \"100\", \"start_time\": \"2021-09-24T03:36:55.587491Z\", \"end_time\": \"2021-09-24T03:37:17.601998Z\", \"created_time\": \"2021-09-24T03:36:55.455792Z\", \"created_time_dt\": \"2021-09-24T03:36:55.455792Z\", \"duration\": \"0:00:22\", \"iteration\": \"21\", \"goal\": \"normalized_root_mean_squared_error_min\", \"run_name\": \"MinMaxScaler, ExtremeRandomTrees\", \"run_properties\": \"copy=True, feature_range=(0, 1\", \"primary_metric\": 0.24898429, \"best_metric\": 0.03773711}, {\"run_id\": \"AutoML_4d4f91b7-5150-43ff-a8b3-d6b22fe69c76_22\", \"run_number\": 62, \"metric\": null, \"status\": \"Completed\", \"run_type\": null, \"training_percent\": \"100\", \"start_time\": \"2021-09-24T03:37:18.462731Z\", \"end_time\": \"2021-09-24T03:37:41.166886Z\", \"created_time\": \"2021-09-24T03:37:18.327215Z\", \"created_time_dt\": \"2021-09-24T03:37:18.327215Z\", \"duration\": \"0:00:22\", \"iteration\": \"22\", \"goal\": \"normalized_root_mean_squared_error_min\", \"run_name\": \"MaxAbsScaler, ExtremeRandomTrees\", \"run_properties\": \"copy=True\", \"primary_metric\": 0.23749844, \"best_metric\": 0.03773711}, {\"run_id\": \"AutoML_4d4f91b7-5150-43ff-a8b3-d6b22fe69c76_23\", \"run_number\": 63, \"metric\": null, \"status\": \"Completed\", \"run_type\": null, \"training_percent\": \"100\", \"start_time\": \"2021-09-24T03:37:42.195181Z\", \"end_time\": \"2021-09-24T03:38:04.705521Z\", \"created_time\": \"2021-09-24T03:37:42.085036Z\", \"created_time_dt\": \"2021-09-24T03:37:42.085036Z\", \"duration\": \"0:00:22\", \"iteration\": \"23\", \"goal\": \"normalized_root_mean_squared_error_min\", \"run_name\": \"MinMaxScaler, DecisionTree\", \"run_properties\": \"copy=True, feature_range=(0, 1\", \"primary_metric\": 0.04826062, \"best_metric\": 0.03773711}, {\"run_id\": \"AutoML_4d4f91b7-5150-43ff-a8b3-d6b22fe69c76_24\", \"run_number\": 64, \"metric\": null, \"status\": \"Completed\", \"run_type\": null, \"training_percent\": \"100\", \"start_time\": \"2021-09-24T03:38:05.650488Z\", \"end_time\": \"2021-09-24T03:38:28.409333Z\", \"created_time\": \"2021-09-24T03:38:05.550371Z\", \"created_time_dt\": \"2021-09-24T03:38:05.550371Z\", \"duration\": \"0:00:22\", \"iteration\": \"24\", \"goal\": \"normalized_root_mean_squared_error_min\", \"run_name\": \"RobustScaler, ExtremeRandomTrees\", \"run_properties\": \"copy=True, quantile_range=[10, 90], with_centering=False,\\n             with_scaling=False\", \"primary_metric\": 0.18604424, \"best_metric\": 0.03773711}, {\"run_id\": \"AutoML_4d4f91b7-5150-43ff-a8b3-d6b22fe69c76_25\", \"run_number\": 65, \"metric\": null, \"status\": \"Completed\", \"run_type\": null, \"training_percent\": \"100\", \"start_time\": \"2021-09-24T03:38:30.245063Z\", \"end_time\": \"2021-09-24T03:38:53.894481Z\", \"created_time\": \"2021-09-24T03:38:30.139866Z\", \"created_time_dt\": \"2021-09-24T03:38:30.139866Z\", \"duration\": \"0:00:23\", \"iteration\": \"25\", \"goal\": \"normalized_root_mean_squared_error_min\", \"run_name\": \"StandardScalerWrapper, XGBoostRegressor\", \"run_properties\": \"\\n    copy=True,\\n    with_mean=False,\\n    with_std=False\\n\", \"primary_metric\": 0.13223512, \"best_metric\": 0.03773711}, {\"run_id\": \"AutoML_4d4f91b7-5150-43ff-a8b3-d6b22fe69c76_26\", \"run_number\": 66, \"metric\": null, \"status\": \"Completed\", \"run_type\": null, \"training_percent\": \"100\", \"start_time\": \"2021-09-24T03:38:54.799124Z\", \"end_time\": \"2021-09-24T03:39:17.12832Z\", \"created_time\": \"2021-09-24T03:38:54.689075Z\", \"created_time_dt\": \"2021-09-24T03:38:54.689075Z\", \"duration\": \"0:00:22\", \"iteration\": \"26\", \"goal\": \"normalized_root_mean_squared_error_min\", \"run_name\": \"RobustScaler, DecisionTree\", \"run_properties\": \"copy=True, quantile_range=[10, 90], with_centering=False,\\n             with_scaling=False\", \"primary_metric\": 0.04826062, \"best_metric\": 0.03773711}, {\"run_id\": \"AutoML_4d4f91b7-5150-43ff-a8b3-d6b22fe69c76_27\", \"run_number\": 67, \"metric\": null, \"status\": \"Completed\", \"run_type\": null, \"training_percent\": \"100\", \"start_time\": \"2021-09-24T03:39:18.931372Z\", \"end_time\": \"2021-09-24T03:39:41.190297Z\", \"created_time\": \"2021-09-24T03:39:18.790189Z\", \"created_time_dt\": \"2021-09-24T03:39:18.790189Z\", \"duration\": \"0:00:22\", \"iteration\": \"27\", \"goal\": \"normalized_root_mean_squared_error_min\", \"run_name\": \"StandardScalerWrapper, DecisionTree\", \"run_properties\": \"\\n    copy=True,\\n    with_mean=True,\\n    with_std=False\\n\", \"primary_metric\": 0.04826062, \"best_metric\": 0.03773711}, {\"run_id\": \"AutoML_4d4f91b7-5150-43ff-a8b3-d6b22fe69c76_28\", \"run_number\": 68, \"metric\": null, \"status\": \"Completed\", \"run_type\": null, \"training_percent\": \"100\", \"start_time\": \"2021-09-24T03:39:42.525879Z\", \"end_time\": \"2021-09-24T03:40:05.416623Z\", \"created_time\": \"2021-09-24T03:39:42.426301Z\", \"created_time_dt\": \"2021-09-24T03:39:42.426301Z\", \"duration\": \"0:00:22\", \"iteration\": \"28\", \"goal\": \"normalized_root_mean_squared_error_min\", \"run_name\": \"RobustScaler, DecisionTree\", \"run_properties\": \"copy=True, quantile_range=[10, 90], with_centering=False,\\n             with_scaling=False\", \"primary_metric\": 0.03247396, \"best_metric\": 0.03247396}, {\"run_id\": \"AutoML_4d4f91b7-5150-43ff-a8b3-d6b22fe69c76_29\", \"run_number\": 69, \"metric\": null, \"status\": \"Completed\", \"run_type\": null, \"training_percent\": \"100\", \"start_time\": \"2021-09-24T03:40:06.793555Z\", \"end_time\": \"2021-09-24T03:40:30.980182Z\", \"created_time\": \"2021-09-24T03:40:06.566519Z\", \"created_time_dt\": \"2021-09-24T03:40:06.566519Z\", \"duration\": \"0:00:24\", \"iteration\": \"29\", \"goal\": \"normalized_root_mean_squared_error_min\", \"run_name\": \"StandardScalerWrapper, DecisionTree\", \"run_properties\": \"\\n    copy=True,\\n    with_mean=False,\\n    with_std=False\\n\", \"primary_metric\": 0.04826062, \"best_metric\": 0.03247396}, {\"run_id\": \"AutoML_4d4f91b7-5150-43ff-a8b3-d6b22fe69c76_30\", \"run_number\": 70, \"metric\": null, \"status\": \"Completed\", \"run_type\": null, \"training_percent\": \"100\", \"start_time\": \"2021-09-24T03:40:33.168632Z\", \"end_time\": \"2021-09-24T03:40:56.357719Z\", \"created_time\": \"2021-09-24T03:40:33.045324Z\", \"created_time_dt\": \"2021-09-24T03:40:33.045324Z\", \"duration\": \"0:00:23\", \"iteration\": \"30\", \"goal\": \"normalized_root_mean_squared_error_min\", \"run_name\": \"StandardScalerWrapper, DecisionTree\", \"run_properties\": \"\\n    copy=True,\\n    with_mean=True,\\n    with_std=False\\n\", \"primary_metric\": 0.05339645, \"best_metric\": 0.03247396}, {\"run_id\": \"AutoML_4d4f91b7-5150-43ff-a8b3-d6b22fe69c76_31\", \"run_number\": 71, \"metric\": null, \"status\": \"Completed\", \"run_type\": null, \"training_percent\": \"100\", \"start_time\": \"2021-09-24T03:40:57.672787Z\", \"end_time\": \"2021-09-24T03:41:21.992907Z\", \"created_time\": \"2021-09-24T03:40:57.565197Z\", \"created_time_dt\": \"2021-09-24T03:40:57.565197Z\", \"duration\": \"0:00:24\", \"iteration\": \"31\", \"goal\": \"normalized_root_mean_squared_error_min\", \"run_name\": \"StandardScalerWrapper, RandomForest\", \"run_properties\": \"\\n    copy=True,\\n    with_mean=False,\\n    with_std=False\\n\", \"primary_metric\": 0.05455178, \"best_metric\": 0.03247396}, {\"run_id\": \"AutoML_4d4f91b7-5150-43ff-a8b3-d6b22fe69c76_32\", \"run_number\": 72, \"metric\": null, \"status\": \"Completed\", \"run_type\": null, \"training_percent\": \"100\", \"start_time\": \"2021-09-24T03:41:23.350666Z\", \"end_time\": \"2021-09-24T03:41:51.147406Z\", \"created_time\": \"2021-09-24T03:41:23.252092Z\", \"created_time_dt\": \"2021-09-24T03:41:23.252092Z\", \"duration\": \"0:00:27\", \"iteration\": \"32\", \"goal\": \"normalized_root_mean_squared_error_min\", \"run_name\": \"StandardScalerWrapper, DecisionTree\", \"run_properties\": \"\\n    copy=True,\\n    with_mean=False,\\n    with_std=False\\n\", \"primary_metric\": 0.0553359, \"best_metric\": 0.03247396}], \"children_metrics\": {\"categories\": [0], \"series\": {\"explained_variance\": [{\"categories\": [\"0\", \"1\", \"2\", \"3\", \"4\", \"5\", \"6\", \"7\", \"8\", \"9\", \"10\", \"11\", \"12\", \"13\", \"14\", \"15\", \"16\", \"17\", \"18\", \"19\", \"20\", \"21\", \"22\", \"23\", \"24\", \"25\", \"26\", \"27\", \"28\", \"29\", \"30\", \"31\", \"32\"], \"mode\": \"markers\", \"name\": \"explained_variance\", \"stepped\": false, \"type\": \"scatter\", \"data\": [7.401486830834377e-17, -0.2630400978517619, 3.700743415417188e-17, 1.8503717077085943e-16, 7.401486830834377e-17, 0.05862129517993786, 0.09244569105773544, -0.9789553335193452, -0.21171624996437824, 0.04844011228261702, -0.22914623831783174, -0.5706122543890052, -0.31493679368213123, -1.2200830022186586, 0.034116668849419475, 0.03464377076984811, 0.019477703382989153, -0.00572552992162804, -1.4839587308657787, -1.4410125604828892, -3.0761231770948463, -1.0528744101175445, -2.2943018542177698, 7.401486830834377e-17, -2.2098761313384885, 0.49599873626786434, 7.401486830834377e-17, 7.401486830834377e-17, -0.010044641716390338, 7.401486830834377e-17, -0.015164029646481855, 0.21456566052847345, 0.17509387868128798]}, {\"categories\": [\"0\", \"1\", \"2\", \"3\", \"4\", \"5\", \"6\", \"7\", \"8\", \"9\", \"10\", \"11\", \"12\", \"13\", \"14\", \"15\", \"16\", \"17\", \"18\", \"19\", \"20\", \"21\", \"22\", \"23\", \"24\", \"25\", \"26\", \"27\", \"28\", \"29\", \"30\", \"31\", \"32\"], \"mode\": \"lines\", \"name\": \"explained_variance_max\", \"stepped\": true, \"type\": \"scatter\", \"data\": [7.401486830834377e-17, 7.401486830834377e-17, 7.401486830834377e-17, 1.8503717077085943e-16, 1.8503717077085943e-16, 0.05862129517993786, 0.09244569105773544, 0.09244569105773544, 0.09244569105773544, 0.09244569105773544, 0.09244569105773544, 0.09244569105773544, 0.09244569105773544, 0.09244569105773544, 0.09244569105773544, 0.09244569105773544, 0.09244569105773544, 0.09244569105773544, 0.09244569105773544, 0.09244569105773544, 0.09244569105773544, 0.09244569105773544, 0.09244569105773544, 0.09244569105773544, 0.09244569105773544, 0.49599873626786434, 0.49599873626786434, 0.49599873626786434, 0.49599873626786434, 0.49599873626786434, 0.49599873626786434, 0.49599873626786434, 0.49599873626786434]}], \"normalized_root_mean_squared_log_error\": [{\"categories\": [\"0\", \"1\", \"2\", \"3\", \"4\", \"5\", \"6\", \"7\", \"8\", \"9\", \"10\", \"11\", \"12\", \"13\", \"14\", \"15\", \"16\", \"17\", \"18\", \"19\", \"20\", \"21\", \"22\", \"23\", \"24\", \"25\", \"26\", \"27\", \"28\", \"29\", \"30\", \"31\", \"32\"], \"mode\": \"markers\", \"name\": \"normalized_root_mean_squared_log_error\", \"stepped\": false, \"type\": \"scatter\", \"data\": [0.037771790867301334, 0.05667805686081509, 0.2257982533849029, 0.05313209459043545, 0.037771663324720754, 0.03782795730904706, 0.05535127012538337, 0.051546224709626644, 0.042681090993240245, 0.22642735080008078, 0.48275638075906274, 0.43043641959905915, 0.4699192236437142, 0.26582415560287087, 0.22623680225075904, 0.44436829740113465, 0.22604606193479115, 0.4512111947072089, 0.1995921788665701, 0.1687679681746752, 0.26197847890381415, 0.2521748393246684, 0.24041690516626804, 0.04828218803072475, 0.18794999841490426, 0.13313970400116792, 0.04828218803072467, 0.048282188030724704, 0.03248901698830249, 0.048282188030724704, 0.05350483666075695, 0.054534144699540876, 0.05531608933777173]}, {\"categories\": [\"0\", \"1\", \"2\", \"3\", \"4\", \"5\", \"6\", \"7\", \"8\", \"9\", \"10\", \"11\", \"12\", \"13\", \"14\", \"15\", \"16\", \"17\", \"18\", \"19\", \"20\", \"21\", \"22\", \"23\", \"24\", \"25\", \"26\", \"27\", \"28\", \"29\", \"30\", \"31\", \"32\"], \"mode\": \"lines\", \"name\": \"normalized_root_mean_squared_log_error_min\", \"stepped\": true, \"type\": \"scatter\", \"data\": [0.037771790867301334, 0.037771790867301334, 0.037771790867301334, 0.037771790867301334, 0.037771663324720754, 0.037771663324720754, 0.037771663324720754, 0.037771663324720754, 0.037771663324720754, 0.037771663324720754, 0.037771663324720754, 0.037771663324720754, 0.037771663324720754, 0.037771663324720754, 0.037771663324720754, 0.037771663324720754, 0.037771663324720754, 0.037771663324720754, 0.037771663324720754, 0.037771663324720754, 0.037771663324720754, 0.037771663324720754, 0.037771663324720754, 0.037771663324720754, 0.037771663324720754, 0.037771663324720754, 0.037771663324720754, 0.037771663324720754, 0.03248901698830249, 0.03248901698830249, 0.03248901698830249, 0.03248901698830249, 0.03248901698830249]}], \"mean_absolute_percentage_error\": [{\"categories\": [\"0\", \"1\", \"2\", \"3\", \"4\", \"5\", \"6\", \"7\", \"8\", \"9\", \"10\", \"11\", \"12\", \"13\", \"14\", \"15\", \"16\", \"17\", \"18\", \"19\", \"20\", \"21\", \"22\", \"23\", \"24\", \"25\", \"26\", \"27\", \"28\", \"29\", \"30\", \"31\", \"32\"], \"mode\": \"markers\", \"name\": \"mean_absolute_percentage_error\", \"stepped\": false, \"type\": \"scatter\", \"data\": [4.613602254080733, 7.556379863073798, 34.035358967932716, 6.755847585171133, 4.613565851239996, 4.597870311167366, 7.29956673571747, 6.6982862469416355, 5.1728427406535955, 34.14904405836741, 72.54204581342462, 64.72659210418364, 70.6299448354208, 39.83228980790132, 34.11472140521132, 66.88938629949634, 34.08026770020175, 67.89685046292402, 29.547030411224082, 24.649454811767217, 38.81612459006491, 37.7496752616585, 35.59383446579576, 6.7156182233591055, 27.810150479169476, 20.087423845760842, 6.715618223359094, 6.7156182233591055, 3.926263175676116, 6.715618223359098, 6.833398926992867, 7.663072490730937, 7.766988363541844]}, {\"categories\": [\"0\", \"1\", \"2\", \"3\", \"4\", \"5\", \"6\", \"7\", \"8\", \"9\", \"10\", \"11\", \"12\", \"13\", \"14\", \"15\", \"16\", \"17\", \"18\", \"19\", \"20\", \"21\", \"22\", \"23\", \"24\", \"25\", \"26\", \"27\", \"28\", \"29\", \"30\", \"31\", \"32\"], \"mode\": \"lines\", \"name\": \"mean_absolute_percentage_error_min\", \"stepped\": true, \"type\": \"scatter\", \"data\": [4.613602254080733, 4.613602254080733, 4.613602254080733, 4.613602254080733, 4.613565851239996, 4.597870311167366, 4.597870311167366, 4.597870311167366, 4.597870311167366, 4.597870311167366, 4.597870311167366, 4.597870311167366, 4.597870311167366, 4.597870311167366, 4.597870311167366, 4.597870311167366, 4.597870311167366, 4.597870311167366, 4.597870311167366, 4.597870311167366, 4.597870311167366, 4.597870311167366, 4.597870311167366, 4.597870311167366, 4.597870311167366, 4.597870311167366, 4.597870311167366, 4.597870311167366, 3.926263175676116, 3.926263175676116, 3.926263175676116, 3.926263175676116, 3.926263175676116]}], \"normalized_mean_absolute_error\": [{\"categories\": [\"0\", \"1\", \"2\", \"3\", \"4\", \"5\", \"6\", \"7\", \"8\", \"9\", \"10\", \"11\", \"12\", \"13\", \"14\", \"15\", \"16\", \"17\", \"18\", \"19\", \"20\", \"21\", \"22\", \"23\", \"24\", \"25\", \"26\", \"27\", \"28\", \"29\", \"30\", \"31\", \"32\"], \"mode\": \"markers\", \"name\": \"normalized_mean_absolute_error\", \"stepped\": false, \"type\": \"scatter\", \"data\": [0.0303103578932865, 0.0498954565808963, 0.22155624508956553, 0.04493762824960513, 0.03031015045374159, 0.030264538101478566, 0.04838495436710193, 0.04239342404504962, 0.03445552271679068, 0.22226139767145014, 0.4707938274219204, 0.42022006765370473, 0.45841389106125097, 0.2590246304735589, 0.22204850509679752, 0.4341946246617878, 0.2218347996488108, 0.4407334454911336, 0.19240149297070133, 0.16112991079712433, 0.25259011662159686, 0.24552641080336923, 0.23171272349218305, 0.042555529423605076, 0.1809686136932779, 0.13074327665480553, 0.04255552942360499, 0.04255552942360507, 0.026115871066831203, 0.04255552942360503, 0.045418500768086505, 0.048749856970174955, 0.049404864507274084]}, {\"categories\": [\"0\", \"1\", \"2\", \"3\", \"4\", \"5\", \"6\", \"7\", \"8\", \"9\", \"10\", \"11\", \"12\", \"13\", \"14\", \"15\", \"16\", \"17\", \"18\", \"19\", \"20\", \"21\", \"22\", \"23\", \"24\", \"25\", \"26\", \"27\", \"28\", \"29\", \"30\", \"31\", \"32\"], \"mode\": \"lines\", \"name\": \"normalized_mean_absolute_error_min\", \"stepped\": true, \"type\": \"scatter\", \"data\": [0.0303103578932865, 0.0303103578932865, 0.0303103578932865, 0.0303103578932865, 0.03031015045374159, 0.030264538101478566, 0.030264538101478566, 0.030264538101478566, 0.030264538101478566, 0.030264538101478566, 0.030264538101478566, 0.030264538101478566, 0.030264538101478566, 0.030264538101478566, 0.030264538101478566, 0.030264538101478566, 0.030264538101478566, 0.030264538101478566, 0.030264538101478566, 0.030264538101478566, 0.030264538101478566, 0.030264538101478566, 0.030264538101478566, 0.030264538101478566, 0.030264538101478566, 0.030264538101478566, 0.030264538101478566, 0.030264538101478566, 0.026115871066831203, 0.026115871066831203, 0.026115871066831203, 0.026115871066831203, 0.026115871066831203]}], \"spearman_correlation\": [{\"categories\": [\"0\", \"1\", \"2\", \"3\", \"4\", \"5\", \"6\", \"7\", \"8\", \"9\", \"10\", \"11\", \"12\", \"13\", \"14\", \"15\", \"16\", \"17\", \"18\", \"19\", \"20\", \"21\", \"22\", \"23\", \"24\", \"25\", \"26\", \"27\", \"28\", \"29\", \"30\", \"31\", \"32\"], \"mode\": \"markers\", \"name\": \"spearman_correlation\", \"stepped\": false, \"type\": \"scatter\", \"data\": [-1.0, 0.06831427019718896, -1.0, -1.0, -1.0, 0.7553884711779447, 0.5152882205513785, -0.1982419373616117, -0.38545696149291514, 0.7304924954397292, 0.6240601503759399, -0.25075826578128463, 0.7239086301508028, 0.03369790680795415, 0.7304924954397292, 0.6240601503759399, 0.7304924954397292, 0.5759398496240601, -0.13821732037631118, -0.4999240606597322, -0.47280557987468863, -0.17753328240900101, -0.631936754669581, -1.0, 0.06436936897320139, 0.8030486506691202, -1.0, -1.0, -0.415908400885382, -1.0, -0.25075826578128463, 0.47489950000803444, 0.4403263103147228]}, {\"categories\": [\"0\", \"1\", \"2\", \"3\", \"4\", \"5\", \"6\", \"7\", \"8\", \"9\", \"10\", \"11\", \"12\", \"13\", \"14\", \"15\", \"16\", \"17\", \"18\", \"19\", \"20\", \"21\", \"22\", \"23\", \"24\", \"25\", \"26\", \"27\", \"28\", \"29\", \"30\", \"31\", \"32\"], \"mode\": \"lines\", \"name\": \"spearman_correlation_max\", \"stepped\": true, \"type\": \"scatter\", \"data\": [-1.0, 0.06831427019718896, 0.06831427019718896, 0.06831427019718896, 0.06831427019718896, 0.7553884711779447, 0.7553884711779447, 0.7553884711779447, 0.7553884711779447, 0.7553884711779447, 0.7553884711779447, 0.7553884711779447, 0.7553884711779447, 0.7553884711779447, 0.7553884711779447, 0.7553884711779447, 0.7553884711779447, 0.7553884711779447, 0.7553884711779447, 0.7553884711779447, 0.7553884711779447, 0.7553884711779447, 0.7553884711779447, 0.7553884711779447, 0.7553884711779447, 0.8030486506691202, 0.8030486506691202, 0.8030486506691202, 0.8030486506691202, 0.8030486506691202, 0.8030486506691202, 0.8030486506691202, 0.8030486506691202]}], \"r2_score\": [{\"categories\": [\"0\", \"1\", \"2\", \"3\", \"4\", \"5\", \"6\", \"7\", \"8\", \"9\", \"10\", \"11\", \"12\", \"13\", \"14\", \"15\", \"16\", \"17\", \"18\", \"19\", \"20\", \"21\", \"22\", \"23\", \"24\", \"25\", \"26\", \"27\", \"28\", \"29\", \"30\", \"31\", \"32\"], \"mode\": \"markers\", \"name\": \"r2_score\", \"stepped\": false, \"type\": \"scatter\", \"data\": [-0.8246460133923135, -1.0, -1.0, -1.0, -0.824636086890092, -0.8361673962412652, -1.0, -1.0, -0.7664664314896426, -1.0, -1.0, -1.0, -1.0, -1.0, -1.0, -1.0, -1.0, -1.0, -1.0, -1.0, -1.0, -1.0, -1.0, -1.0, -1.0, -1.0, -1.0, -1.0, -0.3526314115439102, -1.0, -1.0, -1.0, -1.0]}, {\"categories\": [\"0\", \"1\", \"2\", \"3\", \"4\", \"5\", \"6\", \"7\", \"8\", \"9\", \"10\", \"11\", \"12\", \"13\", \"14\", \"15\", \"16\", \"17\", \"18\", \"19\", \"20\", \"21\", \"22\", \"23\", \"24\", \"25\", \"26\", \"27\", \"28\", \"29\", \"30\", \"31\", \"32\"], \"mode\": \"lines\", \"name\": \"r2_score_max\", \"stepped\": true, \"type\": \"scatter\", \"data\": [-0.8246460133923135, -0.8246460133923135, -0.8246460133923135, -0.8246460133923135, -0.824636086890092, -0.824636086890092, -0.824636086890092, -0.824636086890092, -0.7664664314896426, -0.7664664314896426, -0.7664664314896426, -0.7664664314896426, -0.7664664314896426, -0.7664664314896426, -0.7664664314896426, -0.7664664314896426, -0.7664664314896426, -0.7664664314896426, -0.7664664314896426, -0.7664664314896426, -0.7664664314896426, -0.7664664314896426, -0.7664664314896426, -0.7664664314896426, -0.7664664314896426, -0.7664664314896426, -0.7664664314896426, -0.7664664314896426, -0.3526314115439102, -0.3526314115439102, -0.3526314115439102, -0.3526314115439102, -0.3526314115439102]}], \"normalized_median_absolute_error\": [{\"categories\": [\"0\", \"1\", \"2\", \"3\", \"4\", \"5\", \"6\", \"7\", \"8\", \"9\", \"10\", \"11\", \"12\", \"13\", \"14\", \"15\", \"16\", \"17\", \"18\", \"19\", \"20\", \"21\", \"22\", \"23\", \"24\", \"25\", \"26\", \"27\", \"28\", \"29\", \"30\", \"31\", \"32\"], \"mode\": \"markers\", \"name\": \"normalized_median_absolute_error\", \"stepped\": false, \"type\": \"scatter\", \"data\": [0.028746856808239466, 0.05264717026626711, 0.22234815718353407, 0.045663256518893636, 0.028747846350195366, 0.029691072280068773, 0.04734420871147236, 0.041722367628123445, 0.03414291244062178, 0.22219729061643564, 0.47218060827636354, 0.4243948756714402, 0.4605221508051714, 0.2583396842910303, 0.2222428284430051, 0.43265975060565115, 0.22228854012244403, 0.4399422828392441, 0.19723177404374184, 0.17397777985040316, 0.2659011162547133, 0.24922496505840566, 0.24028820891341565, 0.03855015219492433, 0.18172423922546965, 0.12615903504384032, 0.03855015219492424, 0.03855015219492433, 0.019975198925286795, 0.03855015219492428, 0.046557446994505175, 0.050252801503901656, 0.05027264072338955]}, {\"categories\": [\"0\", \"1\", \"2\", \"3\", \"4\", \"5\", \"6\", \"7\", \"8\", \"9\", \"10\", \"11\", \"12\", \"13\", \"14\", \"15\", \"16\", \"17\", \"18\", \"19\", \"20\", \"21\", \"22\", \"23\", \"24\", \"25\", \"26\", \"27\", \"28\", \"29\", \"30\", \"31\", \"32\"], \"mode\": \"lines\", \"name\": \"normalized_median_absolute_error_min\", \"stepped\": true, \"type\": \"scatter\", \"data\": [0.028746856808239466, 0.028746856808239466, 0.028746856808239466, 0.028746856808239466, 0.028746856808239466, 0.028746856808239466, 0.028746856808239466, 0.028746856808239466, 0.028746856808239466, 0.028746856808239466, 0.028746856808239466, 0.028746856808239466, 0.028746856808239466, 0.028746856808239466, 0.028746856808239466, 0.028746856808239466, 0.028746856808239466, 0.028746856808239466, 0.028746856808239466, 0.028746856808239466, 0.028746856808239466, 0.028746856808239466, 0.028746856808239466, 0.028746856808239466, 0.028746856808239466, 0.028746856808239466, 0.028746856808239466, 0.028746856808239466, 0.019975198925286795, 0.019975198925286795, 0.019975198925286795, 0.019975198925286795, 0.019975198925286795]}], \"median_absolute_error\": [{\"categories\": [\"0\", \"1\", \"2\", \"3\", \"4\", \"5\", \"6\", \"7\", \"8\", \"9\", \"10\", \"11\", \"12\", \"13\", \"14\", \"15\", \"16\", \"17\", \"18\", \"19\", \"20\", \"21\", \"22\", \"23\", \"24\", \"25\", \"26\", \"27\", \"28\", \"29\", \"30\", \"31\", \"32\"], \"mode\": \"markers\", \"name\": \"median_absolute_error\", \"stepped\": false, \"type\": \"scatter\", \"data\": [0.0027818333333333328, 0.005094666666666668, 0.02151663117065059, 0.004418833333333337, 0.0027819290913084055, 0.002873205064542255, 0.00458149907700918, 0.004037473515373505, 0.0033040096368789685, 0.021502031812952474, 0.045692917462903694, 0.04106869211872526, 0.04456472853341644, 0.024999531248843004, 0.021506438508429603, 0.04186848406610886, 0.021510862027648906, 0.042573214710353656, 0.019086118774212898, 0.01683582975612351, 0.025731251019968603, 0.024117499868701913, 0.023252689976551232, 0.0037304982279028273, 0.017585454629848698, 0.012208409821192428, 0.003730498227902818, 0.0037304982279028273, 0.001933000000000003, 0.0037304982279028225, 0.004505364145658265, 0.004862963601532564, 0.004864883442802406]}, {\"categories\": [\"0\", \"1\", \"2\", \"3\", \"4\", \"5\", \"6\", \"7\", \"8\", \"9\", \"10\", \"11\", \"12\", \"13\", \"14\", \"15\", \"16\", \"17\", \"18\", \"19\", \"20\", \"21\", \"22\", \"23\", \"24\", \"25\", \"26\", \"27\", \"28\", \"29\", \"30\", \"31\", \"32\"], \"mode\": \"lines\", \"name\": \"median_absolute_error_min\", \"stepped\": true, \"type\": \"scatter\", \"data\": [0.0027818333333333328, 0.0027818333333333328, 0.0027818333333333328, 0.0027818333333333328, 0.0027818333333333328, 0.0027818333333333328, 0.0027818333333333328, 0.0027818333333333328, 0.0027818333333333328, 0.0027818333333333328, 0.0027818333333333328, 0.0027818333333333328, 0.0027818333333333328, 0.0027818333333333328, 0.0027818333333333328, 0.0027818333333333328, 0.0027818333333333328, 0.0027818333333333328, 0.0027818333333333328, 0.0027818333333333328, 0.0027818333333333328, 0.0027818333333333328, 0.0027818333333333328, 0.0027818333333333328, 0.0027818333333333328, 0.0027818333333333328, 0.0027818333333333328, 0.0027818333333333328, 0.001933000000000003, 0.001933000000000003, 0.001933000000000003, 0.001933000000000003, 0.001933000000000003]}], \"root_mean_squared_log_error\": [{\"categories\": [\"0\", \"1\", \"2\", \"3\", \"4\", \"5\", \"6\", \"7\", \"8\", \"9\", \"10\", \"11\", \"12\", \"13\", \"14\", \"15\", \"16\", \"17\", \"18\", \"19\", \"20\", \"21\", \"22\", \"23\", \"24\", \"25\", \"26\", \"27\", \"28\", \"29\", \"30\", \"31\", \"32\"], \"mode\": \"markers\", \"name\": \"root_mean_squared_log_error\", \"stepped\": false, \"type\": \"scatter\", \"data\": [0.0034351005846397255, 0.005154503447899128, 0.020534893750155023, 0.004832021066513387, 0.003435088985465235, 0.003440208559995083, 0.005033840757941283, 0.0046877964367131415, 0.0038815697444428837, 0.020592106099610864, 0.043903576920934474, 0.03914541414807423, 0.04273612033760842, 0.02417499121317208, 0.020574776938929104, 0.04041242851207856, 0.020557430338308615, 0.041034745855180084, 0.01815162041754301, 0.015348357407304088, 0.023825251738978887, 0.022933673995995187, 0.0218643657748528, 0.004390953368208074, 0.017092839248905884, 0.012108196740258185, 0.004390953368208066, 0.0043909533682080695, 0.0029546663975496463, 0.0043909533682080695, 0.00486591955197783, 0.004959528474525951, 0.00503064129237934]}, {\"categories\": [\"0\", \"1\", \"2\", \"3\", \"4\", \"5\", \"6\", \"7\", \"8\", \"9\", \"10\", \"11\", \"12\", \"13\", \"14\", \"15\", \"16\", \"17\", \"18\", \"19\", \"20\", \"21\", \"22\", \"23\", \"24\", \"25\", \"26\", \"27\", \"28\", \"29\", \"30\", \"31\", \"32\"], \"mode\": \"lines\", \"name\": \"root_mean_squared_log_error_min\", \"stepped\": true, \"type\": \"scatter\", \"data\": [0.0034351005846397255, 0.0034351005846397255, 0.0034351005846397255, 0.0034351005846397255, 0.003435088985465235, 0.003435088985465235, 0.003435088985465235, 0.003435088985465235, 0.003435088985465235, 0.003435088985465235, 0.003435088985465235, 0.003435088985465235, 0.003435088985465235, 0.003435088985465235, 0.003435088985465235, 0.003435088985465235, 0.003435088985465235, 0.003435088985465235, 0.003435088985465235, 0.003435088985465235, 0.003435088985465235, 0.003435088985465235, 0.003435088985465235, 0.003435088985465235, 0.003435088985465235, 0.003435088985465235, 0.003435088985465235, 0.003435088985465235, 0.0029546663975496463, 0.0029546663975496463, 0.0029546663975496463, 0.0029546663975496463, 0.0029546663975496463]}], \"mean_absolute_error\": [{\"categories\": [\"0\", \"1\", \"2\", \"3\", \"4\", \"5\", \"6\", \"7\", \"8\", \"9\", \"10\", \"11\", \"12\", \"13\", \"14\", \"15\", \"16\", \"17\", \"18\", \"19\", \"20\", \"21\", \"22\", \"23\", \"24\", \"25\", \"26\", \"27\", \"28\", \"29\", \"30\", \"31\", \"32\"], \"mode\": \"markers\", \"name\": \"mean_absolute_error\", \"stepped\": false, \"type\": \"scatter\", \"data\": [0.002933133333333334, 0.004828383333333334, 0.021439997837317256, 0.004348614285714288, 0.0029331132594085734, 0.0029286993520800803, 0.0046822120341044535, 0.004102411644839452, 0.003334260933303834, 0.021508235452666228, 0.04555871867961924, 0.04066469594684901, 0.04436071223799726, 0.025065813490926292, 0.021487633838217095, 0.04201701382852121, 0.02146695356201542, 0.04264977552017699, 0.018618692474774767, 0.01559254146783772, 0.02444314558547192, 0.02375959077344204, 0.02242284025233855, 0.004118098582322263, 0.017512332747098503, 0.012652026881885528, 0.004118098582322255, 0.004118098582322262, 0.0025272328431372552, 0.004118098582322259, 0.004395148319327731, 0.004717523659003831, 0.004780908738368912]}, {\"categories\": [\"0\", \"1\", \"2\", \"3\", \"4\", \"5\", \"6\", \"7\", \"8\", \"9\", \"10\", \"11\", \"12\", \"13\", \"14\", \"15\", \"16\", \"17\", \"18\", \"19\", \"20\", \"21\", \"22\", \"23\", \"24\", \"25\", \"26\", \"27\", \"28\", \"29\", \"30\", \"31\", \"32\"], \"mode\": \"lines\", \"name\": \"mean_absolute_error_min\", \"stepped\": true, \"type\": \"scatter\", \"data\": [0.002933133333333334, 0.002933133333333334, 0.002933133333333334, 0.002933133333333334, 0.0029331132594085734, 0.0029286993520800803, 0.0029286993520800803, 0.0029286993520800803, 0.0029286993520800803, 0.0029286993520800803, 0.0029286993520800803, 0.0029286993520800803, 0.0029286993520800803, 0.0029286993520800803, 0.0029286993520800803, 0.0029286993520800803, 0.0029286993520800803, 0.0029286993520800803, 0.0029286993520800803, 0.0029286993520800803, 0.0029286993520800803, 0.0029286993520800803, 0.0029286993520800803, 0.0029286993520800803, 0.0029286993520800803, 0.0029286993520800803, 0.0029286993520800803, 0.0029286993520800803, 0.0025272328431372552, 0.0025272328431372552, 0.0025272328431372552, 0.0025272328431372552, 0.0025272328431372552]}], \"normalized_root_mean_squared_error\": [{\"categories\": [\"0\", \"1\", \"2\", \"3\", \"4\", \"5\", \"6\", \"7\", \"8\", \"9\", \"10\", \"11\", \"12\", \"13\", \"14\", \"15\", \"16\", \"17\", \"18\", \"19\", \"20\", \"21\", \"22\", \"23\", \"24\", \"25\", \"26\", \"27\", \"28\", \"29\", \"30\", \"31\", \"32\"], \"mode\": \"markers\", \"name\": \"normalized_root_mean_squared_error\", \"stepped\": false, \"type\": \"scatter\", \"data\": [0.037737241727556096, 0.056530694001785536, 0.22331279579862998, 0.053025974355194204, 0.03773711316237721, 0.03779083193689301, 0.055231043116187956, 0.05153686426169862, 0.04262474186197326, 0.22392741843971267, 0.47180503275654345, 0.4216628599879035, 0.4595233519469974, 0.2623495637015279, 0.22374127310426525, 0.4350593985792565, 0.2235549239974066, 0.4416209211353335, 0.19757926546993665, 0.16728447128700305, 0.25857205458312466, 0.248984288150968, 0.2374984439845207, 0.048260623646615895, 0.186044240421837, 0.1322351191381774, 0.04826062364661582, 0.04826062364661591, 0.03247396168428657, 0.048260623646615854, 0.05339644658499013, 0.05455178471054573, 0.05533589878992207]}, {\"categories\": [\"0\", \"1\", \"2\", \"3\", \"4\", \"5\", \"6\", \"7\", \"8\", \"9\", \"10\", \"11\", \"12\", \"13\", \"14\", \"15\", \"16\", \"17\", \"18\", \"19\", \"20\", \"21\", \"22\", \"23\", \"24\", \"25\", \"26\", \"27\", \"28\", \"29\", \"30\", \"31\", \"32\"], \"mode\": \"lines\", \"name\": \"normalized_root_mean_squared_error_min\", \"stepped\": true, \"type\": \"scatter\", \"data\": [0.037737241727556096, 0.037737241727556096, 0.037737241727556096, 0.037737241727556096, 0.03773711316237721, 0.03773711316237721, 0.03773711316237721, 0.03773711316237721, 0.03773711316237721, 0.03773711316237721, 0.03773711316237721, 0.03773711316237721, 0.03773711316237721, 0.03773711316237721, 0.03773711316237721, 0.03773711316237721, 0.03773711316237721, 0.03773711316237721, 0.03773711316237721, 0.03773711316237721, 0.03773711316237721, 0.03773711316237721, 0.03773711316237721, 0.03773711316237721, 0.03773711316237721, 0.03773711316237721, 0.03773711316237721, 0.03773711316237721, 0.03247396168428657, 0.03247396168428657, 0.03247396168428657, 0.03247396168428657, 0.03247396168428657]}], \"root_mean_squared_error\": [{\"categories\": [\"0\", \"1\", \"2\", \"3\", \"4\", \"5\", \"6\", \"7\", \"8\", \"9\", \"10\", \"11\", \"12\", \"13\", \"14\", \"15\", \"16\", \"17\", \"18\", \"19\", \"20\", \"21\", \"22\", \"23\", \"24\", \"25\", \"26\", \"27\", \"28\", \"29\", \"30\", \"31\", \"32\"], \"mode\": \"markers\", \"name\": \"root_mean_squared_error\", \"stepped\": false, \"type\": \"scatter\", \"data\": [0.003651832881975604, 0.005470475258552786, 0.02160997924943342, 0.005131323538352143, 0.0036518204407232427, 0.0036570188065331364, 0.005344708042353509, 0.004987222354604575, 0.004124796269983151, 0.021669456282410997, 0.04565657301985071, 0.04080431496102942, 0.04446807476791093, 0.025387567279396853, 0.021651442998299745, 0.04210069800051464, 0.02163340999522903, 0.04273565653826622, 0.019119745519525767, 0.016188118286443284, 0.02502201772200897, 0.024094209564369168, 0.022982724424382067, 0.004670180550283021, 0.018003501145621166, 0.012796392479001424, 0.004670180550283013, 0.004670180550283021, 0.003142505272188411, 0.0046701805502830165, 0.005167174136029496, 0.00527897620643951, 0.005354854925900758]}, {\"categories\": [\"0\", \"1\", \"2\", \"3\", \"4\", \"5\", \"6\", \"7\", \"8\", \"9\", \"10\", \"11\", \"12\", \"13\", \"14\", \"15\", \"16\", \"17\", \"18\", \"19\", \"20\", \"21\", \"22\", \"23\", \"24\", \"25\", \"26\", \"27\", \"28\", \"29\", \"30\", \"31\", \"32\"], \"mode\": \"lines\", \"name\": \"root_mean_squared_error_min\", \"stepped\": true, \"type\": \"scatter\", \"data\": [0.003651832881975604, 0.003651832881975604, 0.003651832881975604, 0.003651832881975604, 0.0036518204407232427, 0.0036518204407232427, 0.0036518204407232427, 0.0036518204407232427, 0.0036518204407232427, 0.0036518204407232427, 0.0036518204407232427, 0.0036518204407232427, 0.0036518204407232427, 0.0036518204407232427, 0.0036518204407232427, 0.0036518204407232427, 0.0036518204407232427, 0.0036518204407232427, 0.0036518204407232427, 0.0036518204407232427, 0.0036518204407232427, 0.0036518204407232427, 0.0036518204407232427, 0.0036518204407232427, 0.0036518204407232427, 0.0036518204407232427, 0.0036518204407232427, 0.0036518204407232427, 0.003142505272188411, 0.003142505272188411, 0.003142505272188411, 0.003142505272188411, 0.003142505272188411]}]}, \"metricName\": null, \"primaryMetricName\": \"normalized_root_mean_squared_error\", \"showLegend\": false}, \"run_metrics\": [{\"name\": \"normalized_root_mean_squared_log_error\", \"run_id\": \"AutoML_4d4f91b7-5150-43ff-a8b3-d6b22fe69c76\", \"categories\": [0], \"series\": [{\"data\": [0.03248901698830249]}]}, {\"name\": \"root_mean_squared_error\", \"run_id\": \"AutoML_4d4f91b7-5150-43ff-a8b3-d6b22fe69c76\", \"categories\": [0], \"series\": [{\"data\": [0.003142505272188411]}]}, {\"name\": \"r2_score\", \"run_id\": \"AutoML_4d4f91b7-5150-43ff-a8b3-d6b22fe69c76\", \"categories\": [0], \"series\": [{\"data\": [-0.3526314115439102]}]}, {\"name\": \"median_absolute_error\", \"run_id\": \"AutoML_4d4f91b7-5150-43ff-a8b3-d6b22fe69c76\", \"categories\": [0], \"series\": [{\"data\": [0.001933000000000003]}]}, {\"name\": \"root_mean_squared_log_error\", \"run_id\": \"AutoML_4d4f91b7-5150-43ff-a8b3-d6b22fe69c76\", \"categories\": [0], \"series\": [{\"data\": [0.0029546663975496463]}]}, {\"name\": \"explained_variance\", \"run_id\": \"AutoML_4d4f91b7-5150-43ff-a8b3-d6b22fe69c76\", \"categories\": [0], \"series\": [{\"data\": [-0.010044641716390338]}]}, {\"name\": \"spearman_correlation\", \"run_id\": \"AutoML_4d4f91b7-5150-43ff-a8b3-d6b22fe69c76\", \"categories\": [0], \"series\": [{\"data\": [-0.415908400885382]}]}, {\"name\": \"normalized_median_absolute_error\", \"run_id\": \"AutoML_4d4f91b7-5150-43ff-a8b3-d6b22fe69c76\", \"categories\": [0], \"series\": [{\"data\": [0.019975198925286795]}]}, {\"name\": \"mean_absolute_error\", \"run_id\": \"AutoML_4d4f91b7-5150-43ff-a8b3-d6b22fe69c76\", \"categories\": [0], \"series\": [{\"data\": [0.0025272328431372552]}]}, {\"name\": \"normalized_root_mean_squared_error\", \"run_id\": \"AutoML_4d4f91b7-5150-43ff-a8b3-d6b22fe69c76\", \"categories\": [0], \"series\": [{\"data\": [0.03247396168428657]}]}, {\"name\": \"normalized_mean_absolute_error\", \"run_id\": \"AutoML_4d4f91b7-5150-43ff-a8b3-d6b22fe69c76\", \"categories\": [0], \"series\": [{\"data\": [0.026115871066831203]}]}, {\"name\": \"mean_absolute_percentage_error\", \"run_id\": \"AutoML_4d4f91b7-5150-43ff-a8b3-d6b22fe69c76\", \"categories\": [0], \"series\": [{\"data\": [3.926263175676116]}]}], \"run_logs\": \"\\nRun is completed.\", \"graph\": {}, \"widget_settings\": {\"childWidgetDisplay\": \"popup\", \"send_telemetry\": false, \"log_level\": \"INFO\", \"sdk_version\": \"1.34.0\"}, \"loading\": false}"
          },
          "metadata": {}
        }
      ],
      "execution_count": 9,
      "metadata": {
        "gather": {
          "logged": 1632726188006
        },
        "jupyter": {
          "outputs_hidden": false,
          "source_hidden": false
        },
        "nteract": {
          "transient": {
            "deleting": false
          }
        }
      }
    },
    {
      "cell_type": "markdown",
      "source": [
        "## Best Model\n",
        "\n",
        "Get the best model from the automl experiments and display all the properties of the model.\n",
        "\n"
      ],
      "metadata": {}
    },
    {
      "cell_type": "code",
      "source": [
        "# Retrieve and save your best automl model.\r\n",
        "automl_best_run, automl_best_model = automl_run.get_output()\r\n",
        "automl_best_run"
      ],
      "outputs": [],
      "execution_count": null,
      "metadata": {
        "gather": {
          "logged": 1632457250856
        },
        "jupyter": {
          "outputs_hidden": false,
          "source_hidden": false
        },
        "nteract": {
          "transient": {
            "deleting": false
          }
        }
      }
    },
    {
      "cell_type": "code",
      "source": [
        "print('Best Run Id: ', automl_best_run.id)\r\n",
        "\r\n",
        "automl_best_run_metrics = automl_best_run.get_metrics()\r\n",
        "print('RMSE:', automl_best_run_metrics['root_mean_squared_error']) # similar metric used in the hyperdrive approach\r\n",
        "\r\n",
        "print()\r\n",
        "print('All available performance metrics:')\r\n",
        "for metric, value in automl_best_run_metrics.items():    \r\n",
        "    print(metric, '=', value)"
      ],
      "outputs": [
        {
          "output_type": "stream",
          "name": "stdout",
          "text": "Best Run Id:  AutoML_4d4f91b7-5150-43ff-a8b3-d6b22fe69c76_28\nRMSE: 0.003142505272188411\n\nAll available performance metrics:\nexplained_variance = -0.010044641716390338\nnormalized_root_mean_squared_log_error = 0.03248901698830249\nmean_absolute_percentage_error = 3.926263175676116\nnormalized_mean_absolute_error = 0.026115871066831203\nspearman_correlation = -0.415908400885382\nr2_score = -0.3526314115439102\nnormalized_median_absolute_error = 0.019975198925286795\nmedian_absolute_error = 0.001933000000000003\nroot_mean_squared_log_error = 0.0029546663975496463\nmean_absolute_error = 0.0025272328431372552\nnormalized_root_mean_squared_error = 0.03247396168428657\nroot_mean_squared_error = 0.003142505272188411\npredicted_true = aml://artifactId/ExperimentRun/dcid.AutoML_4d4f91b7-5150-43ff-a8b3-d6b22fe69c76_28/predicted_true\nresiduals = aml://artifactId/ExperimentRun/dcid.AutoML_4d4f91b7-5150-43ff-a8b3-d6b22fe69c76_28/residuals\n"
        }
      ],
      "execution_count": 57,
      "metadata": {
        "jupyter": {
          "source_hidden": false,
          "outputs_hidden": false
        },
        "nteract": {
          "transient": {
            "deleting": false
          }
        },
        "gather": {
          "logged": 1632457257587
        }
      }
    },
    {
      "cell_type": "code",
      "source": [
        "print('Model parameters:')\r\n",
        "\r\n",
        "def print_model(model, prefix=\"\"):\r\n",
        "    for step in model.steps:\r\n",
        "        print(prefix + step[0])\r\n",
        "        if hasattr(step[1], 'estimators') and hasattr(step[1], 'weights'):\r\n",
        "            pprint({'estimators': list(\r\n",
        "                e[0] for e in step[1].estimators), 'weights': step[1].weights})\r\n",
        "            print()\r\n",
        "            for estimator in step[1].estimators:\r\n",
        "                print_model(estimator[1], estimator[0] + ' - ')\r\n",
        "        else:\r\n",
        "            pprint(step[1].get_params())\r\n",
        "            print()\r\n",
        "\r\n",
        "print_model(automl_best_model)"
      ],
      "outputs": [
        {
          "output_type": "stream",
          "name": "stdout",
          "text": "Model parameters:\ntimeseriestransformer\n{'country_or_region': None,\n 'drop_column_names': [],\n 'featurization_config': FeaturizationConfig(\n    blocked_transformers=None,\n    column_purposes=None,\n    transformer_params=None,\n    dataset_language=None,\n    drop_columns=None,\n    prediction_transform_type=None\n),\n 'force_time_index_features': None,\n 'freq': 'D',\n 'grain_column_names': ['_automl_dummy_grain_col'],\n 'group': None,\n 'lookback_features_removed': False,\n 'max_horizon': 20,\n 'origin_time_colname': 'origin',\n 'pipeline': Pipeline(memory=None,\n         steps=[('make_numeric_na_dummies',\n                 MissingDummiesTransformer(numerical_columns=[])),\n                ('impute_na_numeric_datetime',\n                 TimeSeriesImputer(end=None, freq='D', impute_by_horizon=False, input_column=[], limit=None, limit_direction='forward', method=OrderedDict([('ffill', [])]), option='fillna', order=None, origin=None, value={})),\n                ('grain_dropper', S...\n                ('make_time_index_featuers',\n                 TimeIndexFeaturizer(correlation_cutoff=0.99, country_or_region=None, datetime_columns=None, force_feature_list=None, freq='D', overwrite_columns=True, prune_features=True)),\n                ('make_categoricals_onehot',\n                 CategoryBinarizer(columns=[], drop_first=False, dummy_na=False, encode_all_categoricals=False, prefix=None, prefix_sep='_'))],\n         verbose=False),\n 'pipeline_type': <TimeSeriesPipelineType.FULL: 1>,\n 'seasonality': 7,\n 'time_column_name': 'time',\n 'time_index_non_holiday_features': ['_automl_year',\n                                     '_automl_half',\n                                     '_automl_quarter',\n                                     '_automl_month',\n                                     '_automl_day',\n                                     '_automl_wday',\n                                     '_automl_qday',\n                                     '_automl_week'],\n 'use_stl': None}\n\nRobustScaler\n{'copy': True,\n 'quantile_range': [10, 90],\n 'with_centering': False,\n 'with_scaling': False}\n\nDecisionTreeRegressor\n{'ccp_alpha': 0.0,\n 'criterion': 'mse',\n 'max_depth': None,\n 'max_features': None,\n 'max_leaf_nodes': None,\n 'min_impurity_decrease': 0.0,\n 'min_impurity_split': None,\n 'min_samples_leaf': 0.006781961770526707,\n 'min_samples_split': 0.0008991789964660114,\n 'min_weight_fraction_leaf': 0.0,\n 'presort': 'deprecated',\n 'random_state': None,\n 'splitter': 'best'}\n\n"
        }
      ],
      "execution_count": 59,
      "metadata": {
        "jupyter": {
          "source_hidden": false,
          "outputs_hidden": false
        },
        "nteract": {
          "transient": {
            "deleting": false
          }
        },
        "gather": {
          "logged": 1632458014792
        }
      }
    },
    {
      "cell_type": "markdown",
      "source": [
        "### Save the best model"
      ],
      "metadata": {
        "nteract": {
          "transient": {
            "deleting": false
          }
        }
      }
    },
    {
      "cell_type": "code",
      "source": [
        "# Create a folder for model outputs in the current directory\r\n",
        "# os.makedirs('./automl-outputs', exist_ok=True)\r\n",
        "\r\n",
        "# Download the best run's outputs\r\n",
        "automl_best_run.download_files(prefix='outputs/', append_prefix=False,\r\n",
        "                               output_directory='./automl-outputs/')"
      ],
      "outputs": [],
      "execution_count": null,
      "metadata": {
        "gather": {
          "logged": 1632458018944
        },
        "jupyter": {
          "outputs_hidden": false,
          "source_hidden": false
        },
        "nteract": {
          "transient": {
            "deleting": false
          }
        }
      }
    },
    {
      "cell_type": "markdown",
      "source": [
        "## Model Deployment\n",
        "\n",
        "Rgister the model, create an inference config and deploy the model as a web service."
      ],
      "metadata": {}
    },
    {
      "cell_type": "code",
      "source": [
        "model_name = automl_best_run.properties['model_name']\r\n",
        "\r\n",
        "print('best model name:', model_name)"
      ],
      "outputs": [
        {
          "output_type": "stream",
          "name": "stdout",
          "text": "best model name: AutoML4d4f91b7528\n"
        }
      ],
      "execution_count": 64,
      "metadata": {
        "jupyter": {
          "source_hidden": false,
          "outputs_hidden": false
        },
        "nteract": {
          "transient": {
            "deleting": false
          }
        },
        "gather": {
          "logged": 1632529222776
        }
      }
    },
    {
      "cell_type": "code",
      "source": [
        "model = automl_run.register_model(model_name = model_name, \r\n",
        "                                  description = 'AutoML forecast ETHBTC close price', \r\n",
        "                                  tags = None)\r\n",
        "\r\n",
        "# Model to be deployed\r\n",
        "model"
      ],
      "outputs": [
        {
          "output_type": "execute_result",
          "execution_count": 65,
          "data": {
            "text/plain": "Model(workspace=Workspace.create(name='capstone', subscription_id='d876eeb1-1ac0-424f-8c00-6284386d5106', resource_group='nanodegree'), name=AutoML4d4f91b7528, id=AutoML4d4f91b7528:1, version=1, tags={}, properties={})"
          },
          "metadata": {}
        }
      ],
      "execution_count": 65,
      "metadata": {
        "jupyter": {
          "source_hidden": false,
          "outputs_hidden": false
        },
        "nteract": {
          "transient": {
            "deleting": false
          }
        },
        "gather": {
          "logged": 1632529736225
        }
      }
    },
    {
      "cell_type": "markdown",
      "source": [
        "### Prepare inference config"
      ],
      "metadata": {
        "nteract": {
          "transient": {
            "deleting": false
          }
        }
      }
    },
    {
      "cell_type": "code",
      "source": [
        "automlenv = Environment(name='AzureML-AutoML')\r\n",
        "\r\n",
        "inference_config = InferenceConfig(\r\n",
        "    environment=automlenv,\r\n",
        "    source_directory=\"./automl-outputs\",\r\n",
        "    entry_script=\"./scoring_file_v_1_0_0.py\")"
      ],
      "outputs": [],
      "execution_count": null,
      "metadata": {
        "jupyter": {
          "source_hidden": false,
          "outputs_hidden": false
        },
        "nteract": {
          "transient": {
            "deleting": false
          }
        },
        "gather": {
          "logged": 1632597681302
        }
      }
    },
    {
      "cell_type": "markdown",
      "source": [
        "### Deploy to local to preview"
      ],
      "metadata": {
        "nteract": {
          "transient": {
            "deleting": false
          }
        }
      }
    },
    {
      "cell_type": "code",
      "source": [
        "local_deployment_config = LocalWebservice.deploy_configuration(port=6789)\r\n",
        "\r\n",
        "local_service = Model.deploy(\r\n",
        "    ws,\r\n",
        "    \"forecast-service\",\r\n",
        "    [model],\r\n",
        "    inference_config,\r\n",
        "    local_deployment_config,\r\n",
        "    overwrite=True,\r\n",
        ")\r\n",
        "\r\n",
        "local_service.wait_for_deployment(show_output=True)"
      ],
      "outputs": [
        {
          "output_type": "stream",
          "name": "stdout",
          "text": "Downloading model AutoML4d4f91b7528:1 to /tmp/azureml_0fb67urs/AutoML4d4f91b7528/1\nGenerating Docker build context.\nPackage creation Succeeded\nLogging into Docker registry viennaglobal.azurecr.io\nLogging into Docker registry viennaglobal.azurecr.io\nBuilding Docker image from Dockerfile...\nStep 1/5 : FROM viennaglobal.azurecr.io/azureml/azureml_21de62ceab4bd15bd023f919521b0887\n ---> 589e55ecf2b7\nStep 2/5 : COPY azureml-app /var/azureml-app\n ---> 7504f775a44c\nStep 3/5 : RUN mkdir -p '/var/azureml-app' && echo eyJhY2NvdW50Q29udGV4dCI6eyJzdWJzY3JpcHRpb25JZCI6ImQ4NzZlZWIxLTFhYzAtNDI0Zi04YzAwLTYyODQzODZkNTEwNiIsInJlc291cmNlR3JvdXBOYW1lIjoibmFub2RlZ3JlZSIsImFjY291bnROYW1lIjoiY2Fwc3RvbmUiLCJ3b3Jrc3BhY2VJZCI6Ijk3ODdlODFmLWE4MWQtNGE3My05NjY3LTQ0MGFjYWVjZjAxNyJ9LCJtb2RlbHMiOnt9LCJtb2RlbHNJbmZvIjp7fX0= | base64 --decode > /var/azureml-app/model_config_map.json\n ---> Running in 423e45b1338d\n ---> dae2435386ec\nStep 4/5 : RUN mv '/var/azureml-app/tmpx7ad1yh1.py' /var/azureml-app/main.py\n ---> Running in 6f96cfec3b93\n ---> 3dec21ec79fd\nStep 5/5 : CMD [\"runsvdir\",\"/var/runit\"]\n ---> Running in 7cf46a58531b\n ---> bbf967a72e27\nSuccessfully built bbf967a72e27\nSuccessfully tagged forecast-service:latest\nStarting Docker container...\nDocker container running.\nChecking container health...\nLocal webservice is running at http://localhost:6789\n"
        }
      ],
      "execution_count": 109,
      "metadata": {
        "jupyter": {
          "source_hidden": false,
          "outputs_hidden": false
        },
        "nteract": {
          "transient": {
            "deleting": false
          }
        },
        "gather": {
          "logged": 1632603694003
        }
      }
    },
    {
      "cell_type": "code",
      "source": [
        "local_service"
      ],
      "outputs": [
        {
          "output_type": "execute_result",
          "execution_count": 117,
          "data": {
            "text/plain": "LocalWebservice(workspace=Workspace.create(name='capstone', subscription_id='d876eeb1-1ac0-424f-8c00-6284386d5106', resource_group='nanodegree'), name=forecast-service, image_id=None, compute_type=None, state=Local, scoring_uri=running, tags=http://localhost:6789/score, properties=None, created_by=None)"
          },
          "metadata": {}
        }
      ],
      "execution_count": 117,
      "metadata": {
        "jupyter": {
          "source_hidden": false,
          "outputs_hidden": false
        },
        "nteract": {
          "transient": {
            "deleting": false
          }
        },
        "gather": {
          "logged": 1632604039188
        }
      }
    },
    {
      "cell_type": "markdown",
      "source": [
        "### Test local service endpoint"
      ],
      "metadata": {
        "nteract": {
          "transient": {
            "deleting": false
          }
        }
      }
    },
    {
      "cell_type": "code",
      "source": [
        "local_uri = local_service.scoring_uri\r\n",
        "print('local service endpoint:', local_uri)\r\n",
        "\r\n",
        "print('test endpoint:')\r\n",
        "headers = {\"Content-Type\": \"application/json\"}\r\n",
        "data = {\r\n",
        "        \"data\":\r\n",
        "        [\r\n",
        "            {\r\n",
        "                'time': \"2021-09-10 00:00:00,000000\",\r\n",
        "            },\r\n",
        "        ]\r\n",
        "}\r\n",
        "data = json.dumps(data)\r\n",
        "\r\n",
        "response = requests.post(local_uri, data=data, headers=headers)\r\n",
        "# print(response)\r\n",
        "print(response.json())"
      ],
      "outputs": [
        {
          "output_type": "stream",
          "name": "stdout",
          "text": "local service endpoint: http://localhost:6789/score\ntest endpoint:\n{\"forecast\": [0.0648978], \"index\": [{\"time\": 1631232000000, \"_automl_dummy_grain_col\": \"_automl_dummy_grain_col\"}]}\n"
        }
      ],
      "execution_count": 116,
      "metadata": {
        "jupyter": {
          "source_hidden": false,
          "outputs_hidden": false
        },
        "nteract": {
          "transient": {
            "deleting": false
          }
        },
        "gather": {
          "logged": 1632603954699
        }
      }
    },
    {
      "cell_type": "markdown",
      "source": [
        "### Check local service logs"
      ],
      "metadata": {
        "nteract": {
          "transient": {
            "deleting": false
          }
        }
      }
    },
    {
      "cell_type": "code",
      "source": [
        "print(local_service.get_logs())"
      ],
      "outputs": [
        {
          "output_type": "stream",
          "name": "stdout",
          "text": "2021-09-25T21:01:29,551730109+00:00 - iot-server/run \n2021-09-25T21:01:29,551353905+00:00 - gunicorn/run \nDynamic Python package installation is disabled.\nStarting HTTP server\n2021-09-25T21:01:29,553250522+00:00 - rsyslog/run \n2021-09-25T21:01:29,555499742+00:00 - nginx/run \nrsyslogd: /azureml-envs/azureml_732632de80c129004c31329a710852e7/lib/libuuid.so.1: no version information available (required by rsyslogd)\nEdgeHubConnectionString and IOTEDGE_IOTHUBHOSTNAME are not set. Exiting...\n2021-09-25T21:01:29,910614373+00:00 - iot-server/finish 1 0\n2021-09-25T21:01:29,915501816+00:00 - Exit code 1 is normal. Not restarting iot-server.\nStarting gunicorn 20.1.0\nListening at: http://127.0.0.1:31311 (11)\nUsing worker: sync\nworker timeout is set to 300\nBooting worker with pid: 39\nSPARK_HOME not set. Skipping PySpark Initialization.\nGenerating new fontManager, this may take some time...\nInitializing logger\n2021-09-25 21:01:32,033 | root | INFO | Starting up app insights client\nlogging socket was found. logging is available.\nlogging socket was found. logging is available.\n2021-09-25 21:01:32,033 | root | INFO | Starting up request id generator\n2021-09-25 21:01:32,033 | root | INFO | Starting up app insight hooks\n2021-09-25 21:01:32,034 | root | INFO | Invoking user's init function\n2021-09-25 21:01:34,736 | root | INFO | Users's init has completed successfully\n2021-09-25 21:01:34,739 | root | INFO | Skipping middleware: dbg_model_info as it's not enabled.\n2021-09-25 21:01:34,739 | root | INFO | Skipping middleware: dbg_resource_usage as it's not enabled.\nGenerating swagger file: /tmp/tmpgl_adhgi\n2021-09-25 21:01:34,741 | root | INFO | Scoring timeout setting is not found. Use default timeout: 3600000 ms\n2021-09-25 21:02:57,460 | root | INFO | Validation Request Content-Type\n2021-09-25 21:02:57,461 | root | INFO | Scoring Timer is set to 3600.0 seconds\n2021-09-25 21:02:57,627 | root | INFO | 200\n127.0.0.1 - - [25/Sep/2021:21:02:57 +0000] \"POST /score HTTP/1.0\" 200 127 \"-\" \"python-requests/2.26.0\"\n2021-09-25 21:03:50,861 | root | INFO | Validation Request Content-Type\n2021-09-25 21:03:50,862 | root | INFO | Scoring Timer is set to 3600.0 seconds\n2021-09-25 21:03:50,998 | root | INFO | 200\n127.0.0.1 - - [25/Sep/2021:21:03:50 +0000] \"POST /score HTTP/1.0\" 200 127 \"-\" \"python-requests/2.26.0\"\n2021-09-25 21:04:21,713 | root | INFO | Validation Request Content-Type\n2021-09-25 21:04:21,713 | root | INFO | Scoring Timer is set to 3600.0 seconds\n2021-09-25 21:04:21,848 | root | INFO | 200\n127.0.0.1 - - [25/Sep/2021:21:04:21 +0000] \"POST /score HTTP/1.0\" 200 127 \"-\" \"python-requests/2.26.0\"\n2021-09-25 21:04:47,716 | root | INFO | Validation Request Content-Type\n2021-09-25 21:04:47,717 | root | INFO | Scoring Timer is set to 3600.0 seconds\n2021-09-25 21:04:47,893 | root | INFO | 200\n127.0.0.1 - - [25/Sep/2021:21:04:47 +0000] \"POST /score HTTP/1.0\" 200 127 \"-\" \"python-requests/2.26.0\"\n2021-09-25 21:04:53,838 | root | INFO | Validation Request Content-Type\n2021-09-25 21:04:53,838 | root | INFO | Scoring Timer is set to 3600.0 seconds\n2021-09-25 21:04:54,027 | root | INFO | 200\n127.0.0.1 - - [25/Sep/2021:21:04:54 +0000] \"POST /score HTTP/1.0\" 200 127 \"-\" \"python-requests/2.26.0\"\n2021-09-25 21:05:55,203 | root | INFO | Validation Request Content-Type\n2021-09-25 21:05:55,203 | root | INFO | Scoring Timer is set to 3600.0 seconds\n2021-09-25 21:05:55,341 | root | INFO | 200\n127.0.0.1 - - [25/Sep/2021:21:05:55 +0000] \"POST /score HTTP/1.0\" 200 127 \"-\" \"python-requests/2.26.0\"\n\n"
        }
      ],
      "execution_count": 119,
      "metadata": {
        "jupyter": {
          "source_hidden": false,
          "outputs_hidden": false
        },
        "nteract": {
          "transient": {
            "deleting": false
          }
        },
        "gather": {
          "logged": 1632604251108
        }
      }
    },
    {
      "cell_type": "markdown",
      "source": [
        "### Delete local service"
      ],
      "metadata": {
        "nteract": {
          "transient": {
            "deleting": false
          }
        }
      }
    },
    {
      "cell_type": "code",
      "source": [
        "local_service.delete()"
      ],
      "outputs": [],
      "execution_count": null,
      "metadata": {
        "jupyter": {
          "source_hidden": false,
          "outputs_hidden": false
        },
        "nteract": {
          "transient": {
            "deleting": false
          }
        },
        "gather": {
          "logged": 1632606418859
        }
      }
    },
    {
      "cell_type": "markdown",
      "source": [
        "### Re-deploy to cloud"
      ],
      "metadata": {
        "nteract": {
          "transient": {
            "deleting": false
          }
        }
      }
    },
    {
      "cell_type": "code",
      "source": [
        "cloud_deployment_config = AciWebservice.deploy_configuration(\r\n",
        "    cpu_cores=0.5, \r\n",
        "    memory_gb=1, \r\n",
        "    auth_enabled=True,\r\n",
        "    enable_app_insights=True\r\n",
        ")\r\n",
        "\r\n",
        "cloud_service = Model.deploy(\r\n",
        "    ws,\r\n",
        "    \"forecast-service\",\r\n",
        "    [model],\r\n",
        "    inference_config,\r\n",
        "    cloud_deployment_config,\r\n",
        "    overwrite=True,\r\n",
        ")\r\n",
        "\r\n",
        "cloud_service.wait_for_deployment(show_output=True)"
      ],
      "outputs": [
        {
          "output_type": "stream",
          "name": "stdout",
          "text": "Tips: You can try get_logs(): https://aka.ms/debugimage#dockerlog or local deployment: https://aka.ms/debugimage#debug-locally to debug if deployment takes longer than 10 minutes.\nRunning\n2021-09-25 08:27:35+00:00 Creating Container Registry if not exists.\n2021-09-25 08:27:37+00:00 Use the existing image.\n2021-09-25 08:27:37+00:00 Generating deployment configuration.\n2021-09-25 08:27:38+00:00 Submitting deployment to compute.\n2021-09-25 08:27:40+00:00 Checking the status of deployment forecast-service..\n2021-09-25 08:32:33+00:00 Checking the status of inference endpoint forecast-service.\nSucceeded\nACI service creation operation finished, operation \"Succeeded\"\n"
        }
      ],
      "execution_count": 100,
      "metadata": {
        "jupyter": {
          "source_hidden": false,
          "outputs_hidden": false
        },
        "nteract": {
          "transient": {
            "deleting": false
          }
        },
        "gather": {
          "logged": 1632558755452
        }
      }
    },
    {
      "cell_type": "markdown",
      "source": [
        "### Test cloud endpoint"
      ],
      "metadata": {
        "nteract": {
          "transient": {
            "deleting": false
          }
        }
      }
    },
    {
      "cell_type": "code",
      "source": [
        "%run test/endpoint.py"
      ],
      "outputs": [
        {
          "output_type": "stream",
          "name": "stdout",
          "text": "{\"forecast\": [0.0648978], \"index\": [{\"time\": 1631232000000, \"_automl_dummy_grain_col\": \"_automl_dummy_grain_col\"}]}\n"
        }
      ],
      "execution_count": 122,
      "metadata": {
        "jupyter": {
          "source_hidden": false,
          "outputs_hidden": false
        },
        "nteract": {
          "transient": {
            "deleting": false
          }
        },
        "gather": {
          "logged": 1632548651595
        }
      }
    },
    {
      "cell_type": "markdown",
      "source": [
        "### Check cloud service logs"
      ],
      "metadata": {
        "nteract": {
          "transient": {
            "deleting": false
          }
        }
      }
    },
    {
      "cell_type": "code",
      "source": [
        "print(cloud_service.get_logs())"
      ],
      "outputs": [
        {
          "output_type": "stream",
          "name": "stdout",
          "text": "2021-09-25 19:06:34,833 | root | INFO | 200\n127.0.0.1 - - [25/Sep/2021:19:06:34 +0000] \"POST /score?verbose=true HTTP/1.0\" 200 138 \"-\" \"Go-http-client/1.1\"\n2021-09-25 19:06:39,648 | root | INFO | 200\n127.0.0.1 - - [25/Sep/2021:19:06:39 +0000] \"GET /swagger.json HTTP/1.0\" 200 1993 \"-\" \"Go-http-client/1.1\"\n2021-09-25 21:15:46,862 | root | INFO | Validation Request Content-Type\n2021-09-25 21:15:46,866 | root | INFO | Scoring Timer is set to 60.0 seconds\n2021-09-25 21:15:47,117 | root | INFO | 200\n127.0.0.1 - - [25/Sep/2021:21:15:47 +0000] \"POST /score HTTP/1.0\" 200 127 \"-\" \"Python-urllib/3.6\"\n2021-09-25 21:16:17,843 | root | INFO | Validation Request Content-Type\n2021-09-25 21:16:17,844 | root | INFO | Scoring Timer is set to 60.0 seconds\n2021-09-25 21:16:18,088 | root | INFO | 200\n127.0.0.1 - - [25/Sep/2021:21:16:18 +0000] \"POST /score HTTP/1.0\" 200 127 \"-\" \"Python-urllib/3.6\"\n2021-09-25 21:17:13,246 | root | INFO | Validation Request Content-Type\n2021-09-25 21:17:13,247 | root | INFO | Scoring Timer is set to 60.0 seconds\n2021-09-25 21:17:13,498 | root | INFO | 200\n127.0.0.1 - - [25/Sep/2021:21:17:13 +0000] \"POST /score HTTP/1.0\" 200 127 \"-\" \"Python-urllib/3.6\"\n2021-09-25 21:20:09,338 | root | INFO | 200\n127.0.0.1 - - [25/Sep/2021:21:20:09 +0000] \"GET /swagger.json HTTP/1.0\" 200 1993 \"-\" \"Go-http-client/1.1\"\n2021-09-25 21:20:09,462 | root | INFO | 200\n127.0.0.1 - - [25/Sep/2021:21:20:09 +0000] \"GET /swagger.json HTTP/1.0\" 200 1993 \"-\" \"Go-http-client/1.1\"\n2021-09-25 21:21:56,510 | root | INFO | 200\n127.0.0.1 - - [25/Sep/2021:21:21:56 +0000] \"GET /swagger.json HTTP/1.0\" 200 1993 \"-\" \"Go-http-client/1.1\"\n2021-09-25 21:21:56,625 | root | INFO | 200\n127.0.0.1 - - [25/Sep/2021:21:21:56 +0000] \"GET /swagger.json HTTP/1.0\" 200 1993 \"-\" \"Go-http-client/1.1\"\n2021-09-25 21:36:52,842 | root | INFO | 200\n127.0.0.1 - - [25/Sep/2021:21:36:52 +0000] \"GET /swagger.json HTTP/1.0\" 200 1993 \"-\" \"Go-http-client/1.1\"\n2021-09-25 21:36:56,662 | root | INFO | 200\n127.0.0.1 - - [25/Sep/2021:21:36:56 +0000] \"GET /swagger.json HTTP/1.0\" 200 1993 \"-\" \"Go-http-client/1.1\"\n2021-09-25 21:38:05,417 | root | INFO | 200\n127.0.0.1 - - [25/Sep/2021:21:38:05 +0000] \"GET /swagger.json HTTP/1.0\" 200 1993 \"-\" \"Go-http-client/1.1\"\n2021-09-25 21:38:08,729 | root | INFO | Validation Request Content-Type\n2021-09-25 21:38:08,730 | root | INFO | Scoring Timer is set to 60.0 seconds\n2021-09-25 21:38:08,945 | root | INFO | 200\n127.0.0.1 - - [25/Sep/2021:21:38:08 +0000] \"POST /score?verbose=true HTTP/1.0\" 200 127 \"-\" \"Go-http-client/1.1\"\n127.0.0.1 - - [26/Sep/2021:12:29:09 +0000] \"GET /?a=fetch&content=%3Cphp%3Edie%28%40md5%28HelloThinkCMF%29%29%3C%2Fphp%3E HTTP/1.0\" 200 7 \"-\" \"Mozilla/5.0 (Windows NT 10.0; Win64; x64) AppleWebKit/537.36 (KHTML, like Gecko) Chrome/78.0.3904.108 Safari/537.36\"\n127.0.0.1 - - [26/Sep/2021:12:29:11 +0000] \"GET /?XDEBUG_SESSION_START=phpstorm HTTP/1.0\" 200 7 \"-\" \"Mozilla/5.0 (Windows NT 10.0; Win64; x64) AppleWebKit/537.36 (KHTML, like Gecko) Chrome/78.0.3904.108 Safari/537.36\"\n2021-09-26 21:47:32,483 | root | INFO | 200\n127.0.0.1 - - [26/Sep/2021:21:47:32 +0000] \"GET /swagger.json HTTP/1.0\" 200 1993 \"-\" \"Go-http-client/1.1\"\n2021-09-26 21:47:33,960 | root | INFO | 200\n127.0.0.1 - - [26/Sep/2021:21:47:33 +0000] \"GET /swagger.json HTTP/1.0\" 200 1993 \"-\" \"Go-http-client/1.1\"\n2021-09-26 21:48:07,712 | root | INFO | 200\n127.0.0.1 - - [26/Sep/2021:21:48:07 +0000] \"GET /swagger.json HTTP/1.0\" 200 1993 \"-\" \"Go-http-client/1.1\"\n2021-09-26 21:48:07,970 | root | INFO | 200\n127.0.0.1 - - [26/Sep/2021:21:48:07 +0000] \"GET /swagger.json HTTP/1.0\" 200 1993 \"-\" \"Go-http-client/1.1\"\n2021-09-26 21:48:09,435 | root | INFO | 200\n127.0.0.1 - - [26/Sep/2021:21:48:09 +0000] \"GET /swagger.json HTTP/1.0\" 200 1993 \"-\" \"Go-http-client/1.1\"\n2021-09-26 21:48:14,460 | root | INFO | Validation Request Content-Type\n2021-09-26 21:48:14,460 | root | INFO | Scoring Timer is set to 60.0 seconds\n2021-09-26 21:48:14,486 | root | INFO | 200\n127.0.0.1 - - [26/Sep/2021:21:48:14 +0000] \"POST /score?verbose=true HTTP/1.0\" 200 915 \"-\" \"Go-http-client/1.1\"\n\n"
        }
      ],
      "execution_count": 24,
      "metadata": {
        "jupyter": {
          "source_hidden": false,
          "outputs_hidden": false
        },
        "nteract": {
          "transient": {
            "deleting": false
          }
        },
        "gather": {
          "logged": 1632723583551
        }
      }
    },
    {
      "cell_type": "markdown",
      "source": [
        "### Delete cloud service"
      ],
      "metadata": {
        "nteract": {
          "transient": {
            "deleting": false
          }
        }
      }
    },
    {
      "cell_type": "code",
      "source": [
        "# cloud_service = Webservice(ws, name=\"forecast-service\")"
      ],
      "outputs": [],
      "execution_count": 8,
      "metadata": {
        "jupyter": {
          "source_hidden": false,
          "outputs_hidden": false
        },
        "nteract": {
          "transient": {
            "deleting": false
          }
        },
        "gather": {
          "logged": 1632771228891
        }
      }
    },
    {
      "cell_type": "code",
      "source": [
        "cloud_service.delete()"
      ],
      "outputs": [],
      "execution_count": 9,
      "metadata": {
        "jupyter": {
          "outputs_hidden": false,
          "source_hidden": false
        },
        "nteract": {
          "transient": {
            "deleting": false
          }
        },
        "gather": {
          "logged": 1632771240386
        }
      }
    },
    {
      "cell_type": "markdown",
      "source": [
        "# Delete Compute Resources"
      ],
      "metadata": {
        "nteract": {
          "transient": {
            "deleting": false
          }
        }
      }
    },
    {
      "cell_type": "code",
      "source": [
        "cpu_cluster.delete()"
      ],
      "outputs": [],
      "execution_count": 12,
      "metadata": {
        "jupyter": {
          "source_hidden": false,
          "outputs_hidden": false
        },
        "nteract": {
          "transient": {
            "deleting": false
          }
        },
        "gather": {
          "logged": 1632771369101
        }
      }
    }
  ],
  "metadata": {
    "kernel_info": {
      "name": "python3"
    },
    "kernelspec": {
      "name": "python3",
      "language": "python",
      "display_name": "Python 3"
    },
    "language_info": {
      "name": "python",
      "version": "3.6.9",
      "mimetype": "text/x-python",
      "codemirror_mode": {
        "name": "ipython",
        "version": 3
      },
      "pygments_lexer": "ipython3",
      "nbconvert_exporter": "python",
      "file_extension": ".py"
    },
    "nteract": {
      "version": "nteract-front-end@1.0.0"
    },
    "microsoft": {
      "host": {
        "AzureML": {
          "notebookHasBeenCompleted": true
        }
      }
    }
  },
  "nbformat": 4,
  "nbformat_minor": 2
}